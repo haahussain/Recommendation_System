{
 "cells": [
  {
   "cell_type": "code",
   "execution_count": 22,
   "metadata": {},
   "outputs": [],
   "source": [
    "from bs4 import BeautifulSoup\n",
    "import requests\n",
    "import copy\n",
    "import re\n",
    "import pickle\n",
    "from collections import defaultdict\n",
    "import sys\n",
    "import matplotlib\n",
    "import matplotlib.pyplot as plt\n",
    "import time\n",
    "sys.setrecursionlimit(40000) # to enable pickle to handle the dictionary load"
   ]
  },
  {
   "cell_type": "code",
   "execution_count": null,
   "metadata": {},
   "outputs": [],
   "source": [
    "# GET and prettify via Beautiful Soup\n",
    "headers = {'User-Agent': 'Mozilla/5.0 (Windows NT 6.1; WOW64) AppleWebKit/537.36 (KHTML, like Gecko) Chrome/56.0.2924.76 Safari/537.36'} # This is chrome, you can set whatever browser you like\n",
    "response = requests.get(\"https://www.glassdoor.com/Reviews/new-york-city-reviews-SRCH_IL.0,13_IM615.htm\", headers=headers)\n",
    "print(response.status_code)"
   ]
  },
  {
   "cell_type": "code",
   "execution_count": 24,
   "metadata": {},
   "outputs": [
    {
     "name": "stdout",
     "output_type": "stream",
     "text": [
      "200\n",
      "[' J.P. Morgan ', ' IBM ', ' Citi ', \" Macy's \", ' Verizon ', ' Morgan Stanley ', ' Goldman Sachs ', ' PwC ', ' EY ', ' Deloitte ']\n"
     ]
    }
   ],
   "source": [
    "co_list = []\n",
    "soup = BeautifulSoup(response.content, 'html.parser') #Pass the page contents to beautiful soup for parsing\n",
    "# soup.prettify # test-print\n",
    "cos = soup.findAll('a', {'class':'tightAll h2'})\n",
    "\n",
    "for c in cos:\n",
    "    co_list.append(c.get_text())\n",
    "print(co_list)"
   ]
  },
  {
   "cell_type": "code",
   "execution_count": 15,
   "metadata": {},
   "outputs": [
    {
     "name": "stdout",
     "output_type": "stream",
     "text": [
      "['https://www.glassdoor.com/Reviews/J-P-Morgan-Reviews-E145.htm', 'https://www.glassdoor.com/Reviews/IBM-Reviews-E354.htm', 'https://www.glassdoor.com/Reviews/Citi-Reviews-E8843.htm', 'https://www.glassdoor.com/Reviews/Macy-s-Reviews-E1079.htm', 'https://www.glassdoor.com/Reviews/Verizon-Reviews-E89.htm', 'https://www.glassdoor.com/Reviews/Morgan-Stanley-Reviews-E2282.htm', 'https://www.glassdoor.com/Reviews/Goldman-Sachs-Reviews-E2800.htm', 'https://www.glassdoor.com/Reviews/PwC-Reviews-E8450.htm', 'https://www.glassdoor.com/Reviews/EY-Reviews-E2784.htm', 'https://www.glassdoor.com/Reviews/Deloitte-Reviews-E2763.htm']\n"
     ]
    }
   ],
   "source": [
    "reviews = soup.findAll('a', {'class':'eiCell cell reviews'})\n",
    "revs_list = []\n",
    "for r in reviews:\n",
    "    revs_list.append('https://www.glassdoor.com'+r.get('href', '\\n'))\n",
    "print(revs_list)"
   ]
  },
  {
   "cell_type": "code",
   "execution_count": 16,
   "metadata": {},
   "outputs": [
    {
     "name": "stdout",
     "output_type": "stream",
     "text": [
      "{' J.P. Morgan ': 'https://www.glassdoor.com/Reviews/J-P-Morgan-Reviews-E145.htm', ' IBM ': 'https://www.glassdoor.com/Reviews/IBM-Reviews-E354.htm', ' Citi ': 'https://www.glassdoor.com/Reviews/Citi-Reviews-E8843.htm', \" Macy's \": 'https://www.glassdoor.com/Reviews/Macy-s-Reviews-E1079.htm', ' Verizon ': 'https://www.glassdoor.com/Reviews/Verizon-Reviews-E89.htm', ' Morgan Stanley ': 'https://www.glassdoor.com/Reviews/Morgan-Stanley-Reviews-E2282.htm', ' Goldman Sachs ': 'https://www.glassdoor.com/Reviews/Goldman-Sachs-Reviews-E2800.htm', ' PwC ': 'https://www.glassdoor.com/Reviews/PwC-Reviews-E8450.htm', ' EY ': 'https://www.glassdoor.com/Reviews/EY-Reviews-E2784.htm', ' Deloitte ': 'https://www.glassdoor.com/Reviews/Deloitte-Reviews-E2763.htm'}\n"
     ]
    }
   ],
   "source": [
    "main_dict = {}\n",
    "for i in range(10):\n",
    "    main_dict[co_list[i]] = revs_list[i]\n",
    "print(main_dict)"
   ]
  },
  {
   "cell_type": "code",
   "execution_count": null,
   "metadata": {},
   "outputs": [],
   "source": []
  },
  {
   "cell_type": "code",
   "execution_count": null,
   "metadata": {},
   "outputs": [],
   "source": []
  },
  {
   "cell_type": "code",
   "execution_count": 28,
   "metadata": {},
   "outputs": [
    {
     "name": "stdout",
     "output_type": "stream",
     "text": [
      "https://www.glassdoor.com/Reviews/new-york-city-reviews-SRCH_IL.0,13_IM615.htm 200\n",
      "https://www.glassdoor.com/Reviews/new-york-city-reviews-SRCH_IL.0,13_IM615_IP2.htm 200\n",
      "https://www.glassdoor.com/Reviews/new-york-city-reviews-SRCH_IL.0,13_IM615_IP3.htm 200\n",
      "https://www.glassdoor.com/Reviews/new-york-city-reviews-SRCH_IL.0,13_IM615_IP4.htm 200\n",
      "https://www.glassdoor.com/Reviews/new-york-city-reviews-SRCH_IL.0,13_IM615_IP5.htm 200\n",
      "https://www.glassdoor.com/Reviews/new-york-city-reviews-SRCH_IL.0,13_IM615_IP6.htm 200\n",
      "https://www.glassdoor.com/Reviews/new-york-city-reviews-SRCH_IL.0,13_IM615_IP7.htm 200\n",
      "https://www.glassdoor.com/Reviews/new-york-city-reviews-SRCH_IL.0,13_IM615_IP8.htm 200\n",
      "https://www.glassdoor.com/Reviews/new-york-city-reviews-SRCH_IL.0,13_IM615_IP9.htm 200\n",
      "https://www.glassdoor.com/Reviews/new-york-city-reviews-SRCH_IL.0,13_IM615_IP10.htm 200\n",
      "{' J.P. Morgan ': 'https://www.glassdoor.com/Reviews/J-P-Morgan-Reviews-E145.htm', ' IBM ': 'https://www.glassdoor.com/Reviews/IBM-Reviews-E354.htm', ' Citi ': 'https://www.glassdoor.com/Reviews/Citi-Reviews-E8843.htm', \" Macy's \": 'https://www.glassdoor.com/Reviews/Macy-s-Reviews-E1079.htm', ' Verizon ': 'https://www.glassdoor.com/Reviews/Verizon-Reviews-E89.htm', ' Morgan Stanley ': 'https://www.glassdoor.com/Reviews/Morgan-Stanley-Reviews-E2282.htm', ' Goldman Sachs ': 'https://www.glassdoor.com/Reviews/Goldman-Sachs-Reviews-E2800.htm', ' PwC ': 'https://www.glassdoor.com/Reviews/PwC-Reviews-E8450.htm', ' EY ': 'https://www.glassdoor.com/Reviews/EY-Reviews-E2784.htm', ' Deloitte ': 'https://www.glassdoor.com/Reviews/Deloitte-Reviews-E2763.htm', ' Cognizant Technology Solutions ': 'https://www.glassdoor.com/Reviews/Cognizant-Technology-Solutions-Reviews-E8014.htm', ' Bloomberg L.P. ': 'https://www.glassdoor.com/Reviews/Bloomberg-L-P-Reviews-E3096.htm', ' Bank of America ': 'https://www.glassdoor.com/Reviews/Bank-of-America-Reviews-E8874.htm', ' American Express ': 'https://www.glassdoor.com/Reviews/American-Express-Reviews-E35.htm', ' Columbia University ': 'https://www.glassdoor.com/Reviews/Columbia-University-Reviews-E2748.htm', ' AIG ': 'https://www.glassdoor.com/Reviews/AIG-Reviews-E40.htm', ' New York City Department of Education ': 'https://www.glassdoor.com/Reviews/New-York-City-Department-of-Education-Reviews-E105247.htm', ' NYU (New York University) ': 'https://www.glassdoor.com/Reviews/NYU-New-York-University-Reviews-E2917.htm', ' KPMG ': 'https://www.glassdoor.com/Reviews/KPMG-Reviews-E2867.htm', ' Viacom ': 'https://www.glassdoor.com/Reviews/Viacom-Reviews-E40260.htm', ' Rutgers University ': 'https://www.glassdoor.com/Reviews/Rutgers-University-Reviews-E22285.htm', ' Johnson & Johnson ': 'https://www.glassdoor.com/Reviews/Johnson-and-Johnson-Reviews-E364.htm', ' UBS ': 'https://www.glassdoor.com/Reviews/UBS-Reviews-E3419.htm', ' Target ': 'https://www.glassdoor.com/Reviews/Target-Reviews-E194.htm', ' Credit Suisse ': 'https://www.glassdoor.com/Reviews/Credit-Suisse-Reviews-E3141.htm', ' Thomson Reuters ': 'https://www.glassdoor.com/Reviews/Thomson-Reuters-Reviews-E100303.htm', ' Starbucks ': 'https://www.glassdoor.com/Reviews/Starbucks-Reviews-E2202.htm', ' Barclays ': 'https://www.glassdoor.com/Reviews/Barclays-Reviews-E3456.htm', ' AT&T ': 'https://www.glassdoor.com/Reviews/AT-and-T-Reviews-E613.htm', ' BNY Mellon ': 'https://www.glassdoor.com/Reviews/BNY-Mellon-Reviews-E78.htm', ' The Home Depot ': 'https://www.glassdoor.com/Reviews/The-Home-Depot-Reviews-E655.htm', ' Mount Sinai Health System ': 'https://www.glassdoor.com/Reviews/Mount-Sinai-Health-System-Reviews-E121517.htm', ' CVS Health ': 'https://www.glassdoor.com/Reviews/CVS-Health-Reviews-E437.htm', ' Deutsche Bank ': 'https://www.glassdoor.com/Reviews/Deutsche-Bank-Reviews-E3150.htm', ' Apple ': 'https://www.glassdoor.com/Reviews/Apple-Reviews-E1138.htm', ' Accenture ': 'https://www.glassdoor.com/Reviews/Accenture-Reviews-E4138.htm', ' NBCUniversal ': 'https://www.glassdoor.com/Reviews/NBCUniversal-Reviews-E32038.htm', ' Northwell Health ': 'https://www.glassdoor.com/Reviews/Northwell-Health-Reviews-E1142964.htm', ' NewYork-Presbyterian Hospital ': 'https://www.glassdoor.com/Reviews/NewYork-Presbyterian-Hospital-Reviews-E121522.htm', ' Memorial Sloan Kettering ': 'https://www.glassdoor.com/Reviews/Memorial-Sloan-Kettering-Reviews-E4711.htm', ' UPS ': 'https://www.glassdoor.com/Reviews/UPS-Reviews-E3012.htm', ' Best Buy ': 'https://www.glassdoor.com/Reviews/Best-Buy-Reviews-E97.htm', ' Prudential ': 'https://www.glassdoor.com/Reviews/Prudential-Reviews-E2944.htm', ' NYU Langone Health ': 'https://www.glassdoor.com/Reviews/NYU-Langone-Health-Reviews-E121521.htm', ' ADP ': 'https://www.glassdoor.com/Reviews/ADP-Reviews-E64.htm', \" Bloomingdale's \": 'https://www.glassdoor.com/Reviews/Bloomingdale-s-Reviews-E14465.htm', ' Pfizer ': 'https://www.glassdoor.com/Reviews/Pfizer-Reviews-E525.htm', ' New York Life ': 'https://www.glassdoor.com/Reviews/New-York-Life-Reviews-E2915.htm', ' Merck ': 'https://www.glassdoor.com/Reviews/Merck-Reviews-E438.htm', ' Chase ': 'https://www.glassdoor.com/Reviews/Chase-Reviews-E690765.htm', ' Ralph Lauren ': 'https://www.glassdoor.com/Reviews/Ralph-Lauren-Reviews-E2937.htm', ' TD ': 'https://www.glassdoor.com/Reviews/TD-Reviews-E3767.htm', ' Toys \"R\" Us ': 'https://www.glassdoor.com/Reviews/Toys-R-Us-Reviews-E672.htm', \" McDonald's \": 'https://www.glassdoor.com/Reviews/McDonald-s-Reviews-E432.htm', ' Staples ': 'https://www.glassdoor.com/Reviews/Staples-Reviews-E1909.htm', ' MetLife ': 'https://www.glassdoor.com/Reviews/MetLife-Reviews-E2899.htm', ' Shoprite Supermarkets ': 'https://www.glassdoor.com/Reviews/Shoprite-Supermarkets-Reviews-E346610.htm', ' PepsiCo ': 'https://www.glassdoor.com/Reviews/PepsiCo-Reviews-E522.htm', \" L'Oréal \": 'https://www.glassdoor.com/Reviews/L-Oréal-Reviews-E3470.htm', ' Amazon ': 'https://www.glassdoor.com/Reviews/Amazon-Reviews-E6036.htm', ' HSBC Holdings ': 'https://www.glassdoor.com/Reviews/HSBC-Holdings-Reviews-E3482.htm', ' Google ': 'https://www.glassdoor.com/Reviews/Google-Reviews-E9079.htm', ' Cablevision Systems ': 'https://www.glassdoor.com/Reviews/Cablevision-Systems-Reviews-E802.htm', ' Walmart ': 'https://www.glassdoor.com/Reviews/Walmart-Reviews-E715.htm', ' Time Inc. ': 'https://www.glassdoor.com/Reviews/Time-Inc-Reviews-E4192.htm', ' Estée Lauder Companies ': 'https://www.glassdoor.com/Reviews/Estée-Lauder-Companies-Reviews-E2785.htm', ' United Nations ': 'https://www.glassdoor.com/Reviews/United-Nations-Reviews-E21435.htm', ' Wells Fargo ': 'https://www.glassdoor.com/Reviews/Wells-Fargo-Reviews-E8876.htm', ' Whole Foods Market ': 'https://www.glassdoor.com/Reviews/Whole-Foods-Market-Reviews-E422.htm', ' Walgreens ': 'https://www.glassdoor.com/Reviews/Walgreens-Reviews-E716.htm', \" Victoria's Secret \": 'https://www.glassdoor.com/Reviews/Victoria-s-Secret-Reviews-E13903.htm', ' Gap ': 'https://www.glassdoor.com/Reviews/Gap-Reviews-E114118.htm', ' Bed Bath & Beyond ': 'https://www.glassdoor.com/Reviews/Bed-Bath-and-Beyond-Reviews-E1961.htm', ' CA Technologies ': 'https://www.glassdoor.com/Reviews/CA-Technologies-Reviews-E167.htm', ' Merrill Lynch ': 'https://www.glassdoor.com/Reviews/Merrill-Lynch-Reviews-E440.htm', ' Sears ': 'https://www.glassdoor.com/Reviews/Sears-Reviews-E37984.htm', ' Novartis ': 'https://www.glassdoor.com/Reviews/Novartis-Reviews-E6667.htm', ' Condé Nast ': 'https://www.glassdoor.com/Reviews/Condé-Nast-Reviews-E8360.htm', ' BlackRock ': 'https://www.glassdoor.com/Reviews/BlackRock-Reviews-E9331.htm', ' Metropolitan Transportation Authority ': 'https://www.glassdoor.com/Reviews/Metropolitan-Transportation-Authority-Reviews-E366592.htm', ' Abercrombie & Fitch ': 'https://www.glassdoor.com/Reviews/Abercrombie-and-Fitch-Reviews-E6756.htm', ' T-Mobile ': 'https://www.glassdoor.com/Reviews/T-Mobile-Reviews-E9302.htm', ' Uniqlo ': 'https://www.glassdoor.com/Reviews/Uniqlo-Reviews-E320880.htm', ' McKinsey & Company ': 'https://www.glassdoor.com/Reviews/McKinsey-and-Company-Reviews-E2893.htm', ' Con Edison ': 'https://www.glassdoor.com/Reviews/Con-Edison-Reviews-E16462.htm', ' Century 21 Stores ': 'https://www.glassdoor.com/Reviews/Century-21-Stores-Reviews-E136156.htm', ' Ogilvy ': 'https://www.glassdoor.com/Reviews/Ogilvy-Reviews-E13661.htm', ' Infosys ': 'https://www.glassdoor.com/Reviews/Infosys-Reviews-E7927.htm', ' Stony Brook University ': 'https://www.glassdoor.com/Reviews/Stony-Brook-University-Reviews-E33757.htm', \" Lowe's \": 'https://www.glassdoor.com/Reviews/Lowe-s-Reviews-E415.htm', ' Barnes & Noble ': 'https://www.glassdoor.com/Reviews/Barnes-and-Noble-Reviews-E2439.htm', ' Forever 21 ': 'https://www.glassdoor.com/Reviews/Forever-21-Reviews-E13361.htm', ' Capital One ': 'https://www.glassdoor.com/Reviews/Capital-One-Reviews-E3736.htm', ' US Postal Service ': 'https://www.glassdoor.com/Reviews/US-Postal-Service-Reviews-E3032.htm', ' Tata Consultancy Services ': 'https://www.glassdoor.com/Reviews/Tata-Consultancy-Services-Reviews-E13461.htm', ' BNP Paribas ': 'https://www.glassdoor.com/Reviews/BNP-Paribas-Reviews-E10342.htm', ' Yelp ': 'https://www.glassdoor.com/Reviews/Yelp-Reviews-E43314.htm', ' Success Academy Charter Schools ': 'https://www.glassdoor.com/Reviews/Success-Academy-Charter-Schools-Reviews-E381408.htm', ' JetBlue ': 'https://www.glassdoor.com/Reviews/JetBlue-Reviews-E11385.htm', ' Nielsen ': 'https://www.glassdoor.com/Reviews/Nielsen-Reviews-E3776.htm'}\n"
     ]
    }
   ],
   "source": [
    "# Your code here; use a function or loop to retrieve all the results from your original request\n",
    "\n",
    "def g_call(url):\n",
    "    headers = {'User-Agent': 'Mozilla/5.0 (Windows NT 6.1; WOW64) AppleWebKit/537.36 (KHTML, like Gecko) Chrome/56.0.2924.76 Safari/537.36'} # This is chrome, you can set whatever browser you like\n",
    "    response = requests.get(url, headers=headers)\n",
    "    print(url, response.status_code)\n",
    "    \n",
    "    co_list = []\n",
    "    revs_list = []\n",
    "    soup = BeautifulSoup(response.content, 'html.parser') #Pass the page contents to beautiful soup for parsing\n",
    "\n",
    "    cos = soup.findAll('a', {'class':'tightAll h2'})\n",
    "    for c in cos:\n",
    "        co_list.append(c.get_text())\n",
    "\n",
    "    reviews = soup.findAll('a', {'class':'eiCell cell reviews'})\n",
    "    for r in reviews:\n",
    "        revs_list.append('https://www.glassdoor.com'+r.get('href', '\\n'))\n",
    "    \n",
    "    main_dict = {}\n",
    "    for i in range(10):\n",
    "        # print(i, co_list[i], revs_list[i])\n",
    "        main_dict[co_list[i]] = revs_list[i]\n",
    "    return main_dict\n",
    "\n",
    "####################\n",
    "last_page = 10\n",
    "cur_page = 1\n",
    "results = {}\n",
    "while cur_page <= last_page:\n",
    "    if cur_page == 1:\n",
    "        url = 'https://www.glassdoor.com/Reviews/new-york-city-reviews-SRCH_IL.0,13_IM615.htm'\n",
    "    else:\n",
    "        url = 'https://www.glassdoor.com/Reviews/new-york-city-reviews-SRCH_IL.0,13_IM615_IP'+str(cur_page)+'.htm'\n",
    "    results.update(g_call(url))\n",
    "    time.sleep(1) #Wait a second\n",
    "    cur_page += 1\n",
    "print(results)"
   ]
  },
  {
   "cell_type": "code",
   "execution_count": 29,
   "metadata": {},
   "outputs": [
    {
     "data": {
      "text/plain": [
       "100"
      ]
     },
     "execution_count": 29,
     "metadata": {},
     "output_type": "execute_result"
    }
   ],
   "source": [
    "len(results)"
   ]
  },
  {
   "cell_type": "code",
   "execution_count": null,
   "metadata": {},
   "outputs": [],
   "source": [
    "https://www.glassdoor.com/Reviews/new-york-city-reviews-SRCH_IL.0,13_IM615.htm\n",
    "https://www.glassdoor.com/Reviews/new-york-city-reviews-SRCH_IL.0,13_IM615_IP2.htm\n",
    "https://www.glassdoor.com/Reviews/new-york-city-reviews-SRCH_IL.0,13_IM615_IP3.htm"
   ]
  },
  {
   "cell_type": "code",
   "execution_count": null,
   "metadata": {},
   "outputs": [],
   "source": []
  },
  {
   "cell_type": "code",
   "execution_count": null,
   "metadata": {},
   "outputs": [],
   "source": [
    "# GET and prettify via Beautiful Soup\n",
    "headers = {'User-Agent': 'Mozilla/5.0 (Windows NT 6.1; WOW64) AppleWebKit/537.36 (KHTML, like Gecko) Chrome/56.0.2924.76 Safari/537.36'} # This is chrome, you can set whatever browser you like\n",
    "response = requests.get(\"https://www.glassdoor.com/Reviews/new-york-city-reviews-SRCH_IL.0,13_IM615.htm\", headers=headers)\n",
    "print(response.status_code)"
   ]
  },
  {
   "cell_type": "code",
   "execution_count": null,
   "metadata": {},
   "outputs": [],
   "source": []
  }
 ],
 "metadata": {
  "kernelspec": {
   "display_name": "Python 3",
   "language": "python",
   "name": "python3"
  },
  "language_info": {
   "codemirror_mode": {
    "name": "ipython",
    "version": 3
   },
   "file_extension": ".py",
   "mimetype": "text/x-python",
   "name": "python",
   "nbconvert_exporter": "python",
   "pygments_lexer": "ipython3",
   "version": "3.7.3"
  },
  "toc": {
   "base_numbering": 1,
   "nav_menu": {},
   "number_sections": true,
   "sideBar": true,
   "skip_h1_title": false,
   "title_cell": "Table of Contents",
   "title_sidebar": "Contents",
   "toc_cell": false,
   "toc_position": {},
   "toc_section_display": true,
   "toc_window_display": false
  }
 },
 "nbformat": 4,
 "nbformat_minor": 2
}
