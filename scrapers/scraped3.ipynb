{
 "cells": [
  {
   "cell_type": "code",
   "execution_count": 1,
   "metadata": {},
   "outputs": [
    {
     "name": "stdout",
     "output_type": "stream",
     "text": [
      "Interactive namespace is empty.\n"
     ]
    }
   ],
   "source": [
    "%whos\n",
    "# %reset"
   ]
  },
  {
   "cell_type": "code",
   "execution_count": 3,
   "metadata": {},
   "outputs": [],
   "source": [
    "from bs4 import BeautifulSoup\n",
    "import requests\n",
    "import copy\n",
    "import re\n",
    "import pickle\n",
    "from collections import defaultdict\n",
    "import sys\n",
    "import matplotlib\n",
    "import matplotlib.pyplot as plt\n",
    "import time\n",
    "sys.setrecursionlimit(40000) # to enable pickle to handle the dictionary load"
   ]
  },
  {
   "cell_type": "code",
   "execution_count": 9,
   "metadata": {},
   "outputs": [],
   "source": [
    "# just the first time around\n",
    "# final_dict = {}"
   ]
  },
  {
   "cell_type": "code",
   "execution_count": 2,
   "metadata": {},
   "outputs": [
    {
     "name": "stdout",
     "output_type": "stream",
     "text": [
      "200\n"
     ]
    }
   ],
   "source": [
    "# GET and prettify via Beautiful Soup\n",
    "headers = {'User-Agent': 'Mozilla/5.0 (Windows NT 6.1; WOW64) AppleWebKit/537.36 (KHTML, like Gecko) Chrome/56.0.2924.76 Safari/537.36'} # This is chrome, you can set whatever browser you like\n",
    "response = requests.get(\"https://www.glassdoor.com/Reviews/new-york-city-reviews-SRCH_IL.0,13_IM615.htm\", headers=headers)\n",
    "print(response.status_code)"
   ]
  },
  {
   "cell_type": "code",
   "execution_count": 3,
   "metadata": {},
   "outputs": [
    {
     "name": "stdout",
     "output_type": "stream",
     "text": [
      "[' J.P. Morgan ', ' IBM ', ' Citi ', \" Macy's \", ' Verizon ', ' Morgan Stanley ', ' Goldman Sachs ', ' PwC ', ' EY ', ' Deloitte ']\n"
     ]
    }
   ],
   "source": [
    "co_list = []\n",
    "soup = BeautifulSoup(response.content, 'html.parser') #Pass the page contents to beautiful soup for parsing\n",
    "# soup.prettify # test-print\n",
    "cos = soup.findAll('a', {'class':'tightAll h2'})\n",
    "\n",
    "for c in cos:\n",
    "    co_list.append(c.get_text())\n",
    "print(co_list)"
   ]
  },
  {
   "cell_type": "code",
   "execution_count": 4,
   "metadata": {},
   "outputs": [
    {
     "name": "stdout",
     "output_type": "stream",
     "text": [
      "['https://www.glassdoor.com/Overview/Working-at-J-P-Morgan-EI_IE145.11,21.htm', 'https://www.glassdoor.com/Overview/Working-at-IBM-EI_IE354.11,14.htm', 'https://www.glassdoor.com/citi', 'https://www.glassdoor.com/Overview/Working-at-Macy-s-EI_IE1079.11,17.htm', 'https://www.glassdoor.com/Overview/Working-at-Verizon-EI_IE89.11,18.htm', 'https://www.glassdoor.com/Overview/Working-at-Morgan-Stanley-EI_IE2282.11,25.htm', 'https://www.glassdoor.com/Overview/Working-at-Goldman-Sachs-EI_IE2800.11,24.htm', 'https://www.glassdoor.com/Overview/Working-at-PwC-EI_IE8450.11,14.htm', 'https://www.glassdoor.com/Overview/Working-at-EY-EI_IE2784.11,13.htm', 'https://www.glassdoor.com/Overview/Working-at-Deloitte-EI_IE2763.11,19.htm']\n"
     ]
    }
   ],
   "source": [
    "reviews = soup.findAll('a', {'class':'sqLogoLink'})\n",
    "revs_list = []\n",
    "for r in reviews:\n",
    "    revs_list.append('https://www.glassdoor.com'+r.get('href', '\\n'))\n",
    "print(revs_list)"
   ]
  },
  {
   "cell_type": "code",
   "execution_count": 5,
   "metadata": {},
   "outputs": [
    {
     "name": "stdout",
     "output_type": "stream",
     "text": [
      "{' J.P. Morgan ': 'https://www.glassdoor.com/Overview/Working-at-J-P-Morgan-EI_IE145.11,21.htm', ' IBM ': 'https://www.glassdoor.com/Overview/Working-at-IBM-EI_IE354.11,14.htm', ' Citi ': 'https://www.glassdoor.com/citi', \" Macy's \": 'https://www.glassdoor.com/Overview/Working-at-Macy-s-EI_IE1079.11,17.htm', ' Verizon ': 'https://www.glassdoor.com/Overview/Working-at-Verizon-EI_IE89.11,18.htm', ' Morgan Stanley ': 'https://www.glassdoor.com/Overview/Working-at-Morgan-Stanley-EI_IE2282.11,25.htm', ' Goldman Sachs ': 'https://www.glassdoor.com/Overview/Working-at-Goldman-Sachs-EI_IE2800.11,24.htm', ' PwC ': 'https://www.glassdoor.com/Overview/Working-at-PwC-EI_IE8450.11,14.htm', ' EY ': 'https://www.glassdoor.com/Overview/Working-at-EY-EI_IE2784.11,13.htm', ' Deloitte ': 'https://www.glassdoor.com/Overview/Working-at-Deloitte-EI_IE2763.11,19.htm'}\n"
     ]
    }
   ],
   "source": [
    "main_dict = {}\n",
    "for i in range(10):\n",
    "    main_dict[co_list[i]] = revs_list[i]\n",
    "print(main_dict)"
   ]
  },
  {
   "cell_type": "code",
   "execution_count": 6,
   "metadata": {},
   "outputs": [],
   "source": [
    "headers = {'User-Agent': 'Mozilla/5.0 (Windows NT 6.1; WOW64) AppleWebKit/537.36 (KHTML, like Gecko) Chrome/56.0.2924.76 Safari/537.36'} # This is chrome, you can set whatever browser you like\n",
    "response_jpm = requests.get(\"https://www.glassdoor.com/Overview/Working-at-J-P-Morgan-EI_IE145.11,21.htm\", headers=headers)\n",
    "info_list = []\n",
    "soup = BeautifulSoup(response_jpm.content, 'html.parser') #Pass the page contents to beautiful soup for parsing\n",
    "# soup.prettify # test-print"
   ]
  },
  {
   "cell_type": "code",
   "execution_count": 33,
   "metadata": {},
   "outputs": [
    {
     "data": {
      "text/plain": [
       "['Website', 'Headquarters', 'Size', 'Founded', 'Type', 'Industry', 'Revenue']"
      ]
     },
     "execution_count": 33,
     "metadata": {},
     "output_type": "execute_result"
    }
   ],
   "source": [
    "info = soup.findAll('div', {'class':'info flexbox row col-hh'})\n",
    "labels_list = []\n",
    "for i in info:\n",
    "     labels_t = i.findAll('label')\n",
    "for l in labels_t:\n",
    "    labels_list.append(l.get_text())\n",
    "labels_list"
   ]
  },
  {
   "cell_type": "code",
   "execution_count": 42,
   "metadata": {},
   "outputs": [
    {
     "name": "stdout",
     "output_type": "stream",
     "text": [
      "['www.jpmorgan.com', 'New York, NY', '10000+ employees', ' 1799', ' Company - Public (JPM) ', ' Investment Banking & Asset Management', ' $10+ billion (USD) per year']\n"
     ]
    }
   ],
   "source": [
    "info = soup.findAll('span', {'class':'value'})\n",
    "\n",
    "for i in info:\n",
    "    info_list.append(i.get_text())\n",
    "print(info_list)"
   ]
  },
  {
   "cell_type": "code",
   "execution_count": 4,
   "metadata": {
    "hide_input": true
   },
   "outputs": [
    {
     "ename": "NameError",
     "evalue": "name 'g_call' is not defined",
     "output_type": "error",
     "traceback": [
      "\u001b[0;31m---------------------------------------------------------------------------\u001b[0m",
      "\u001b[0;31mNameError\u001b[0m                                 Traceback (most recent call last)",
      "\u001b[0;32m<ipython-input-4-efa02290b9b2>\u001b[0m in \u001b[0;36m<module>\u001b[0;34m\u001b[0m\n\u001b[1;32m     32\u001b[0m     \u001b[0;32melse\u001b[0m\u001b[0;34m:\u001b[0m\u001b[0;34m\u001b[0m\u001b[0;34m\u001b[0m\u001b[0m\n\u001b[1;32m     33\u001b[0m         \u001b[0murl\u001b[0m \u001b[0;34m=\u001b[0m \u001b[0;34m'https://www.glassdoor.com/Reviews/new-york-city-reviews-SRCH_IL.0,13_IM615_IP'\u001b[0m\u001b[0;34m+\u001b[0m\u001b[0mstr\u001b[0m\u001b[0;34m(\u001b[0m\u001b[0mcur_page\u001b[0m\u001b[0;34m)\u001b[0m\u001b[0;34m+\u001b[0m\u001b[0;34m'.htm'\u001b[0m\u001b[0;34m\u001b[0m\u001b[0;34m\u001b[0m\u001b[0m\n\u001b[0;32m---> 34\u001b[0;31m     \u001b[0mresults\u001b[0m\u001b[0;34m.\u001b[0m\u001b[0mupdate\u001b[0m\u001b[0;34m(\u001b[0m\u001b[0mg_call\u001b[0m\u001b[0;34m(\u001b[0m\u001b[0murl\u001b[0m\u001b[0;34m)\u001b[0m\u001b[0;34m)\u001b[0m\u001b[0;34m\u001b[0m\u001b[0;34m\u001b[0m\u001b[0m\n\u001b[0m\u001b[1;32m     35\u001b[0m     \u001b[0mtime\u001b[0m\u001b[0;34m.\u001b[0m\u001b[0msleep\u001b[0m\u001b[0;34m(\u001b[0m\u001b[0;36m1\u001b[0m\u001b[0;34m)\u001b[0m \u001b[0;31m#Wait a second\u001b[0m\u001b[0;34m\u001b[0m\u001b[0;34m\u001b[0m\u001b[0m\n\u001b[1;32m     36\u001b[0m     \u001b[0mcur_page\u001b[0m \u001b[0;34m+=\u001b[0m \u001b[0;36m1\u001b[0m\u001b[0;34m\u001b[0m\u001b[0;34m\u001b[0m\u001b[0m\n",
      "\u001b[0;31mNameError\u001b[0m: name 'g_call' is not defined"
     ]
    }
   ],
   "source": [
    "# Your code here; use a function or loop to retrieve all the results from your original request\n",
    "def co_call(url):\n",
    "    headers = {'User-Agent': 'Mozilla/5.0 (Windows NT 6.1; WOW64) AppleWebKit/537.36 (KHTML, like Gecko) Chrome/56.0.2924.76 Safari/537.36'} # This is chrome, you can set whatever browser you like\n",
    "    response = requests.get(url, headers=headers)\n",
    "    print(url, response.status_code)\n",
    "    \n",
    "    co_list = []\n",
    "    revs_list = []\n",
    "    soup = BeautifulSoup(response.content, 'html.parser') #Pass the page contents to beautiful soup for parsing\n",
    "\n",
    "    cos = soup.findAll('a', {'class':'tightAll h2'})\n",
    "    for c in cos:\n",
    "        co_list.append(c.get_text())\n",
    "\n",
    "    reviews = soup.findAll('a', {'class':'sqLogoLink'})\n",
    "    for r in reviews:\n",
    "        revs_list.append('https://www.glassdoor.com'+r.get('href', '\\n'))\n",
    "    \n",
    "    main_dict = {}\n",
    "    for i in range(10):\n",
    "        # print(i, co_list[i], revs_list[i])\n",
    "        main_dict[co_list[i]] = revs_list[i]\n",
    "    return main_dict\n",
    "\n",
    "####################\n",
    "last_page = 50\n",
    "cur_page = 46\n",
    "results = {}\n",
    "while cur_page <= last_page:\n",
    "    if cur_page == 1:\n",
    "        url = 'https://www.glassdoor.com/Reviews/new-york-city-reviews-SRCH_IL.0,13_IM615.htm'\n",
    "    else:\n",
    "        url = 'https://www.glassdoor.com/Reviews/new-york-city-reviews-SRCH_IL.0,13_IM615_IP'+str(cur_page)+'.htm'\n",
    "    results.update(g_call(url))\n",
    "    time.sleep(1) #Wait a second\n",
    "    cur_page += 1\n",
    "print(results)"
   ]
  },
  {
   "cell_type": "code",
   "execution_count": 50,
   "metadata": {},
   "outputs": [
    {
     "name": "stdout",
     "output_type": "stream",
     "text": [
      "https://www.glassdoor.com/Reviews/new-york-city-reviews-SRCH_IL.0,13_IM615_IP46.htm 200\n",
      "https://www.glassdoor.com/Reviews/new-york-city-reviews-SRCH_IL.0,13_IM615_IP47.htm 200\n",
      "https://www.glassdoor.com/Reviews/new-york-city-reviews-SRCH_IL.0,13_IM615_IP48.htm 200\n",
      "https://www.glassdoor.com/Reviews/new-york-city-reviews-SRCH_IL.0,13_IM615_IP49.htm 200\n",
      "https://www.glassdoor.com/Reviews/new-york-city-reviews-SRCH_IL.0,13_IM615_IP50.htm 200\n",
      "50\n"
     ]
    }
   ],
   "source": [
    "# Your code here; use a function or loop to retrieve all the results from your original request\n",
    "\n",
    "def g_call(url):\n",
    "    headers = {'User-Agent': 'Mozilla/5.0 (Windows NT 6.1; WOW64) AppleWebKit/537.36 (KHTML, like Gecko) Chrome/56.0.2924.76 Safari/537.36'} # This is chrome, you can set whatever browser you like\n",
    "    response = requests.get(url, headers=headers)\n",
    "    print(url, response.status_code)\n",
    "    \n",
    "    co_list = []\n",
    "    revs_list = []\n",
    "    val_dict = {}\n",
    "    soup = BeautifulSoup(response.content, 'html.parser') #Pass the page contents to beautiful soup for parsing\n",
    "\n",
    "    cos = soup.findAll('a', {'class':'tightAll h2'})\n",
    "    for c in cos:\n",
    "        co_list.append(c.get_text())\n",
    "\n",
    "    reviews = soup.findAll('a', {'class':'sqLogoLink'})\n",
    "    for r in reviews:\n",
    "        revs_list.append('https://www.glassdoor.com'+r.get('href', '\\n'))\n",
    "    \n",
    "    main_dict = {}\n",
    "    for i in range(10):\n",
    "        # print(i, co_list[i], revs_list[i])\n",
    "        main_dict[co_list[i]] = {'link':revs_list[i]}\n",
    "    return main_dict\n",
    "\n",
    "####################\n",
    "last_page = 50\n",
    "cur_page = 46\n",
    "results = {}\n",
    "while cur_page <= last_page:\n",
    "    if cur_page == 1:\n",
    "        url = 'https://www.glassdoor.com/Reviews/new-york-city-reviews-SRCH_IL.0,13_IM615.htm'\n",
    "    else:\n",
    "        url = 'https://www.glassdoor.com/Reviews/new-york-city-reviews-SRCH_IL.0,13_IM615_IP'+str(cur_page)+'.htm'\n",
    "    results.update(g_call(url))\n",
    "    time.sleep(1) #Wait a second\n",
    "    cur_page += 1\n",
    "print(len(results))\n",
    "# print(results)"
   ]
  },
  {
   "cell_type": "code",
   "execution_count": 51,
   "metadata": {},
   "outputs": [
    {
     "name": "stdout",
     "output_type": "stream",
     "text": [
      "500\n",
      "dict_keys([' J.P. Morgan ', ' IBM ', ' Citi ', \" Macy's \", ' Verizon ', ' Morgan Stanley ', ' Goldman Sachs ', ' PwC ', ' EY ', ' Deloitte ', ' Cognizant Technology Solutions ', ' Bloomberg L.P. ', ' Bank of America ', ' American Express ', ' Columbia University ', ' AIG ', ' New York City Department of Education ', ' NYU (New York University) ', ' KPMG ', ' Viacom ', ' Rutgers University ', ' Johnson & Johnson ', ' UBS ', ' Target ', ' Credit Suisse ', ' Thomson Reuters ', ' Starbucks ', ' Barclays ', ' AT&T ', ' BNY Mellon ', ' The Home Depot ', ' Mount Sinai Health System ', ' CVS Health ', ' Deutsche Bank ', ' Apple ', ' Accenture ', ' NBCUniversal ', ' Northwell Health ', ' NewYork-Presbyterian Hospital ', ' Memorial Sloan Kettering ', ' UPS ', ' Best Buy ', ' Prudential ', ' NYU Langone Health ', ' ADP ', \" Bloomingdale's \", ' Pfizer ', ' New York Life ', ' Merck ', ' Chase ', ' Ralph Lauren ', ' TD ', ' Toys \"R\" Us ', \" McDonald's \", ' MetLife ', ' Staples ', ' Shoprite Supermarkets ', ' PepsiCo ', \" L'Oréal \", ' Amazon ', ' HSBC Holdings ', ' Google ', ' Cablevision Systems ', ' Walmart ', ' Time Inc. ', ' Estée Lauder Companies ', ' United Nations ', ' Wells Fargo ', ' Whole Foods Market ', ' Walgreens ', \" Victoria's Secret \", ' Gap ', ' Bed Bath & Beyond ', ' CA Technologies ', ' Merrill Lynch ', ' Sears ', ' Novartis ', ' Condé Nast ', ' BlackRock ', ' Metropolitan Transportation Authority ', ' Abercrombie & Fitch ', ' T-Mobile ', ' Uniqlo ', ' Con Edison ', ' McKinsey & Company ', ' Century 21 Stores ', ' Ogilvy ', ' Infosys ', ' Stony Brook University ', \" Lowe's \", ' Barnes & Noble ', ' Forever 21 ', ' Capital One ', ' US Postal Service ', ' Tata Consultancy Services ', ' Yelp ', ' BNP Paribas ', ' Success Academy Charter Schools ', ' JetBlue ', ' Nielsen ', ' Rite Aid ', ' Saks Fifth Avenue ', ' CUNY (City University of New York) ', ' J. Crew ', ' Unilever ', ' Avon ', ' Mastercard ', ' Tiffany & Co. ', ' Town Sports International Holdings ', ' Robert Half ', ' YMCA ', ' Enterprise ', ' EmblemHealth ', ' Stop & Shop ', ' Broadridge ', \" Moody's \", ' Equinox Fitness ', ' H&M ', ' Edelman ', ' Hertz ', ' PVH Corp. ', ' Pearson ', ' Ann Taylor ', ' Lord & Taylor ', ' American Eagle Outfitters ', ' Montefiore Medical ', ' Nordstrom ', ' Scholastic ', ' Duane Reade ', ' Colgate-Palmolive ', ' Wiley ', ' Hearst ', ' S&P Global Ratings ', ' Weill Cornell Medical College ', \" Kohl's \", ' Coach ', ' Société Générale ', \" Trader Joe's \", ' HBO ', ' Sephora ', ' NYC Health + Hospitals ', ' Sprint ', ' Mondo ', ' Old Navy ', ' TransPerfect ', ' Chipotle ', ' AllianceBernstein ', ' Honeywell ', ' New York Times ', ' Kmart ', ' Uber ', ' National Debt Relief ', ' Northwestern Mutual ', ' AXA Advisors ', ' Bristol-Myers Squibb ', ' Healthfirst (New York) ', \" Dunkin' Donuts \", ' Digitas ', ' Wipro ', ' Banana Republic ', ' Urban Outfitters ', ' CBS ', ' DISH ', \" The Children's Place \", ' GEICO ', ' UnitedHealth Group ', ' Horizon Blue Cross Blue Shield of New Jersey ', ' Visiting Nurse Service of New York ', ' Sanofi ', ' Altice ', ' Madison Square Garden ', ' Insight Global ', ' New York City Department of Parks and Recreation ', ' BD ', ' Sony Music Entertainment ', ' Canon U.S.A. ', ' Delta Air Lines ', ' Power Home Remodeling ', ' Oracle ', ' J. C. Penney ', ' Chubb ', ' Microsoft ', ' Regeneron Pharmaceuticals ', ' R/GA ', ' Audible ', ' AOL ', ' RBC ', ' Capri Holdings ', ' Zocdoc ', ' Panera Bread ', ' AMC Entertainment ', ' Grey Group ', ' Capgemini ', ' TIAA ', ' Panasonic ', ' GameStop ', ' Capco ', ' Samsung Electronics America ', ' Dow Jones ', \" Modell's Sporting Goods \", ' Stevens Institute of Technology ', ' Nomura Holdings ', ' Benjamin Moore ', ' PSEG ', ' Major League Baseball (MLB) ', ' Hollister Co. ', ' Stryker ', ' Zara ', ' Quest Diagnostics ', ' WeWork ', ' City of New York ', ' Xerox ', ' SHI International ', ' Penguin Random House ', \" BJ's Wholesale Club \", ' CIT ', ' Ross Stores ', ' Crothall Healthcare ', ' First Data ', ' iCIMS ', ' S&P Global ', ' Mercer ', ' Strategic Financial Solutions ', ' Burlington Stores ', ' United Airlines ', ' S&P Global Market Intelligence ', ' Compass ', ' Fordham University ', ' New York & Company ', ' Frank Recruitment Group ', ' Pace University ', ' AECOM ', ' Spectrum ', ' FactSet ', ' Dun & Bradstreet ', ' Costco Wholesale ', ' Avaya ', ' RB ', ' Guardian Life ', ' SiriusXM ', ' Coty ', ' New School ', ' Jefferies ', ' YAI - Seeing beyond disability ', ' Mavis Discount Tire ', ' NIKE ', ' BASF ', ' Medidata Solutions ', ' New York Police Department ', ' Federal Reserve Bank (NY) ', ' Port Authority of New York and New Jersey ', ' WebMD Health ', ' RadioShack ', ' FreshDirect ', ' Express ', ' Publicis ', ' American Apparel ', ' Shutterstock ', ' New Jersey Institute of Technology ', ' Aéropostale ', ' Foot Locker ', ' Handy ', ' Bayer ', ' Anthropologie ', ' AppNexus ', ' TJ Maxx ', ' Salesforce ', ' Marriott International ', ' Santander ', ' DTCC ', ' Allstate ', ' Massage Envy ', ' FDM Group ', ' Columbia University Medical Center ', \" Christie's \", ' Horizon Media ', \" Applebee's \", ' Express Scripts ', ' PNC Financial Services Group ', ' DSW ', ' Avis Budget Group ', ' McGraw-Hill ', ' Vonage ', ' Comodo ', ' Atlantic Health System ', ' Yext ', ' Mindshare ', ' OTG Management ', ' CITYMD ', ' New York City Department of Health & Mental Hygiene ', ' Marshalls ', ' Celgene ', ' AXA Equitable ', ' US Army ', ' Genpact ', ' Commvault ', ' BBDO ', ' MediaMath ', ' Bain & Company ', ' Achievement First ', ' NYSE ', ' Amplify ', ' Dollar Tree ', ' XO Group ', ' A+E Networks ', ' Ladders ', ' Aramark ', ' Publicis Sapient ', ' FedEx Ground ', ' Williams Lea Tag ', ' Brown Brothers Harriman ', ' GLG ', ' Huge ', ' Protiviti ', ' Univision ', ' Cisco Systems ', ' FOX News ', ' ALM ', ' Research Foundation of CUNY ', ' Michaels ', ' Six Flags ', ' Tory Burch ', \" The Nature's Bounty Co. \", ' City College of New York ', ' Havas Worldwide ', ' Postmates ', ' Macquarie Group ', ' McCann Worldgroup ', ' Cantor Fitzgerald ', ' Wolters Kluwer ', ' Cushman & Wakefield ', \" St. John's University \", ' Party City ', ' Meredith Corporation ', ' Uncommon Schools ', ' FedEx ', ' Mondelēz International ', ' Teach for America ', ' Henry Schein ', ' Metropolitan Museum of Art ', ' 5W Public Relations ', ' SCO Family of Services ', ' Bath & Body Works ', ' Willis Towers Watson ', ' OMD ', ' Mizuho Financial Group ', ' Everyday Health Group ', ' Albert Einstein College of Medicine ', ' Facebook ', ' CBRE ', ' Fitch Ratings ', ' Bethpage Federal Credit Union ', ' The Coca-Cola Company ', ' LinkedIn ', ' Barneys ', ' Oliver Wyman ', ' Raymour & Flanigan ', ' Verisk Analytics ', ' Conduent ', ' Ricoh USA ', ' inVentiv Health ', ' IPsoft ', ' IQVIA ', ' Adecco ', ' 360i ', ' T3 Trading Group ', ' Walt Disney Company ', ' Marsh & McLennan Companies ', ' Information Builders ', ' IHS Markit ', ' PageGroup ', ' E*TRADE Financial ', ' Oxford University Press ', ' Club Monaco ', ' Green Key Resources ', \" Harlem Children's Zone \", ' Global Brands Group ', ' The Forum Group ', ' College Board ', ' Forrest Solutions ', ' Valley National Bancorp ', ' Realogy ', ' Tommy Hilfiger ', ' Kaplan Test Prep ', ' The Jones Group ', ' JLL ', ' Turner Construction ', ' FTI Consulting ', ' National Grid USA ', ' MongoDB ', ' New York Public Library ', ' Petco ', ' Roche ', ' Grant Thornton ', ' iHeartMedia ', ' J. Walter Thompson Worldwide ', ' Bank Of Tokyo-Mitsubishi UFJ ', ' Ipreo ', ' Siemens ', ' Spotify ', ' Fidelis Care ', ' The NPD Group ', ' VaynerMedia ', ' Rockefeller University ', ' HCL Technologies ', \" Wendy's \", ' Allied Universal ', ' Kumon Group ', ' FINRA ', ' FLIK Hospitality Group ', ' Blue Apron ', ' CDM ', ' AlphaSights ', ' Neuberger Berman ', ' Rent The Runway ', ' Brookhaven National Laboratory ', ' Ericsson-Worldwide ', ' State Farm ', ' PetSmart ', ' H&R Block ', ' Fragomen ', ' WW ', ' Rue Gilt Groupe ', ' Douglas Elliman Real Estate ', ' 7-Eleven ', ' LexisNexis Legal & Professional ', ' RSM ', ' Vice Media ', ' New York Community Bancorp ', ' Long Island University ', ' Thomas ', ' Makerbot ', ' Fidelity Investments ', ' European Wax Center ', ' National Income Life ', ' Bio-Reference Labs ', ' Vector Marketing ', ' MAC Cosmetics ', ' TD Ameritrade ', ' Nasdaq ', ' Mercedes-Benz USA ', ' MEC ', ' Oscar Health ', ' WarnerMedia ', ' Hospital for Special Surgery ', ' New York Institute of Technology ', ' GroupM ', ' Carat ', ' Interbrand ', ' OnDeck ', ' Crestron Electronics ', ' Argus Information & Advisory Services ', ' Weber Shandwick ', ' Burger King ', ' Experian ', ' Bright Horizons Family Solutions ', ' kate spade ', ' Baruch College ', ' Sprinklr ', ' Integra LifeSciences ', ' Spark Foundry ', ' New York City Housing Authority ', ' Martha Stewart Living ', ' TheStreet ', ' Life Time ', ' Aflac ', ' Boston Consulting Group ', ' Infor ', ' BAYADA Home Health Care ', ' Discovery, Inc. ', ' Hunter College ', ' US Standard Products ', ' Keller Williams ', ' The Container Store ', ' Gensler ', ' SinglePlatform ', ' TGI Fridays ', ' Wawa ', ' Konica Minolta Business Solutions ', ' The Vitamin Shoppe ', ' BDO USA ', ' Marsh ', ' FCB Global ', ' Saatchi & Saatchi Group ', ' CareOne ', ' Robert Wood Johnson University Hospital ', ' NYC Department of Human Resource Administration ', ' Subway ', \" DICK'S Sporting Goods \", ' American Airlines ', ' EXL Service ', ' Allergan ', ' NBA ', ' Simon & Schuster ', ' AHRC New York City ', ' SAP ', ' IKEA ', ' GNC ', ' Huntington Learning Centers ', ' Bluewolf '])\n"
     ]
    }
   ],
   "source": [
    "final_dict.update(results)\n",
    "print(len(final_dict.keys()))\n",
    "print(final_dict.keys())"
   ]
  },
  {
   "cell_type": "code",
   "execution_count": null,
   "metadata": {},
   "outputs": [],
   "source": []
  },
  {
   "cell_type": "code",
   "execution_count": 113,
   "metadata": {},
   "outputs": [
    {
     "data": {
      "text/plain": [
       "500"
      ]
     },
     "execution_count": 113,
     "metadata": {},
     "output_type": "execute_result"
    }
   ],
   "source": [
    "# for k in final_dict:\n",
    "#     print(final_dict[k]['link'])\n",
    "len(final_dict)"
   ]
  },
  {
   "cell_type": "code",
   "execution_count": 52,
   "metadata": {},
   "outputs": [
    {
     "name": "stdout",
     "output_type": "stream",
     "text": [
      "https://www.glassdoor.com/Overview/Working-at-J-P-Morgan-EI_IE145.11,21.htm 200\n",
      "https://www.glassdoor.com/Overview/Working-at-IBM-EI_IE354.11,14.htm 200\n",
      "https://www.glassdoor.com/citi 200\n",
      "https://www.glassdoor.com/Overview/Working-at-Macy-s-EI_IE1079.11,17.htm 200\n",
      "https://www.glassdoor.com/Overview/Working-at-Verizon-EI_IE89.11,18.htm 200\n",
      "https://www.glassdoor.com/Overview/Working-at-Morgan-Stanley-EI_IE2282.11,25.htm 200\n",
      "https://www.glassdoor.com/Overview/Working-at-Goldman-Sachs-EI_IE2800.11,24.htm 200\n",
      "https://www.glassdoor.com/Overview/Working-at-PwC-EI_IE8450.11,14.htm 200\n",
      "https://www.glassdoor.com/Overview/Working-at-EY-EI_IE2784.11,13.htm 200\n",
      "https://www.glassdoor.com/Overview/Working-at-Deloitte-EI_IE2763.11,19.htm 200\n",
      "https://www.glassdoor.com/Overview/Working-at-Cognizant-Technology-Solutions-EI_IE8014.11,41.htm 200\n",
      "https://www.glassdoor.com/Overview/Working-at-Bloomberg-L-P-EI_IE3096.11,24.htm 200\n",
      "https://www.glassdoor.com/Overview/Working-at-Bank-of-America-EI_IE8874.11,26.htm 200\n",
      "https://www.glassdoor.com/Overview/Working-at-American-Express-EI_IE35.11,27.htm 200\n",
      "https://www.glassdoor.com/Overview/Working-at-Columbia-University-EI_IE2748.11,30.htm 200\n",
      "https://www.glassdoor.com/Overview/Working-at-AIG-EI_IE40.11,14.htm 200\n",
      "https://www.glassdoor.com/Overview/Working-at-New-York-City-Department-of-Education-EI_IE105247.11,48.htm 200\n",
      "https://www.glassdoor.com/Overview/Working-at-NYU-New-York-University-EI_IE2917.11,34.htm 200\n",
      "https://www.glassdoor.com/Overview/Working-at-KPMG-EI_IE2867.11,15.htm 200\n",
      "https://www.glassdoor.com/Overview/Working-at-Viacom-EI_IE40260.11,17.htm 200\n",
      "https://www.glassdoor.com/Overview/Working-at-Rutgers-University-EI_IE22285.11,29.htm 200\n",
      "https://www.glassdoor.com/Overview/Working-at-Johnson-and-Johnson-EI_IE364.11,30.htm 200\n",
      "https://www.glassdoor.com/Overview/Working-at-UBS-EI_IE3419.11,14.htm 200\n",
      "https://www.glassdoor.com/Overview/Working-at-Target-EI_IE194.11,17.htm 200\n",
      "https://www.glassdoor.com/Overview/Working-at-Credit-Suisse-EI_IE3141.11,24.htm 200\n",
      "https://www.glassdoor.com/Overview/Working-at-Thomson-Reuters-EI_IE100303.11,26.htm 200\n",
      "https://www.glassdoor.com/Overview/Working-at-Starbucks-EI_IE2202.11,20.htm 200\n",
      "https://www.glassdoor.com/Overview/Working-at-Barclays-EI_IE3456.11,19.htm 200\n",
      "https://www.glassdoor.com/Overview/Working-at-AT-and-T-EI_IE613.11,19.htm 200\n",
      "https://www.glassdoor.com/Overview/Working-at-BNY-Mellon-EI_IE78.11,21.htm 200\n",
      "https://www.glassdoor.com/Overview/Working-at-The-Home-Depot-EI_IE655.11,25.htm 200\n",
      "https://www.glassdoor.com/Overview/Working-at-Mount-Sinai-Health-System-EI_IE121517.11,36.htm 200\n",
      "https://www.glassdoor.com/Overview/Working-at-CVS-Health-EI_IE437.11,21.htm 200\n",
      "https://www.glassdoor.com/Overview/Working-at-Deutsche-Bank-EI_IE3150.11,24.htm 200\n",
      "https://www.glassdoor.com/Overview/Working-at-Apple-EI_IE1138.11,16.htm 200\n",
      "https://www.glassdoor.com/Overview/Working-at-Accenture-EI_IE4138.11,20.htm 200\n",
      "https://www.glassdoor.com/Overview/Working-at-NBCUniversal-EI_IE32038.11,23.htm 200\n",
      "https://www.glassdoor.com/Overview/Working-at-Northwell-Health-EI_IE1142964.11,27.htm 200\n",
      "https://www.glassdoor.com/Overview/Working-at-NewYork-Presbyterian-Hospital-EI_IE121522.11,40.htm 200\n",
      "https://www.glassdoor.com/Overview/Working-at-Memorial-Sloan-Kettering-EI_IE4711.11,35.htm 200\n",
      "https://www.glassdoor.com/Overview/Working-at-UPS-EI_IE3012.11,14.htm 200\n",
      "https://www.glassdoor.com/Overview/Working-at-Best-Buy-EI_IE97.11,19.htm 200\n",
      "https://www.glassdoor.com/Overview/Working-at-Prudential-EI_IE2944.11,21.htm 200\n",
      "https://www.glassdoor.com/Overview/Working-at-NYU-Langone-Health-EI_IE121521.11,29.htm 200\n",
      "https://www.glassdoor.com/Overview/Working-at-ADP-EI_IE64.11,14.htm 200\n",
      "https://www.glassdoor.com/Overview/Working-at-Bloomingdale-s-EI_IE14465.11,25.htm 200\n",
      "https://www.glassdoor.com/Overview/Working-at-Pfizer-EI_IE525.11,17.htm 200\n",
      "https://www.glassdoor.com/Overview/Working-at-New-York-Life-EI_IE2915.11,24.htm 200\n",
      "https://www.glassdoor.com/Overview/Working-at-Merck-EI_IE438.11,16.htm 200\n",
      "https://www.glassdoor.com/Overview/Working-at-Chase-EI_IE690765.11,16.htm 200\n",
      "https://www.glassdoor.com/Overview/Working-at-Ralph-Lauren-EI_IE2937.11,23.htm 200\n",
      "https://www.glassdoor.com/Overview/Working-at-TD-EI_IE3767.11,13.htm 200\n",
      "https://www.glassdoor.com/Overview/Working-at-Toys-R-Us-EI_IE672.11,20.htm 200\n",
      "https://www.glassdoor.com/Overview/Working-at-McDonald-s-EI_IE432.11,21.htm 200\n",
      "https://www.glassdoor.com/Overview/Working-at-MetLife-EI_IE2899.11,18.htm 200\n",
      "https://www.glassdoor.com/Overview/Working-at-Staples-EI_IE1909.11,18.htm 200\n",
      "https://www.glassdoor.com/Overview/Working-at-Shoprite-Supermarkets-EI_IE346610.11,32.htm 200\n",
      "https://www.glassdoor.com/Overview/Working-at-PepsiCo-EI_IE522.11,18.htm 200\n",
      "https://www.glassdoor.com/loreal 200\n",
      "https://www.glassdoor.com/Overview/Working-at-Amazon-EI_IE6036.11,17.htm 200\n",
      "https://www.glassdoor.com/Overview/Working-at-HSBC-Holdings-EI_IE3482.11,24.htm 200\n",
      "https://www.glassdoor.com/Overview/Working-at-Google-EI_IE9079.11,17.htm 200\n",
      "https://www.glassdoor.com/Overview/Working-at-Cablevision-Systems-EI_IE802.11,30.htm 200\n",
      "https://www.glassdoor.com/Overview/Working-at-Walmart-EI_IE715.11,18.htm 200\n",
      "https://www.glassdoor.com/Overview/Working-at-Time-Inc-EI_IE4192.11,19.htm 200\n",
      "https://www.glassdoor.com/Overview/Working-at-Estée-Lauder-Companies-EI_IE2785.11,33.htm 200\n",
      "https://www.glassdoor.com/Overview/Working-at-United-Nations-EI_IE21435.11,25.htm 200\n",
      "https://www.glassdoor.com/Overview/Working-at-Wells-Fargo-EI_IE8876.11,22.htm 200\n",
      "https://www.glassdoor.com/Overview/Working-at-Whole-Foods-Market-EI_IE422.11,29.htm 200\n",
      "https://www.glassdoor.com/Overview/Working-at-Walgreens-EI_IE716.11,20.htm 200\n",
      "https://www.glassdoor.com/Overview/Working-at-Victoria-s-Secret-EI_IE13903.11,28.htm 200\n",
      "https://www.glassdoor.com/Overview/Working-at-Gap-EI_IE114118.11,14.htm 200\n",
      "https://www.glassdoor.com/Overview/Working-at-Bed-Bath-and-Beyond-EI_IE1961.11,30.htm 200\n",
      "https://www.glassdoor.com/Overview/Working-at-CA-Technologies-EI_IE167.11,26.htm 200\n",
      "https://www.glassdoor.com/Overview/Working-at-Merrill-Lynch-EI_IE440.11,24.htm 200\n",
      "https://www.glassdoor.com/Overview/Working-at-Sears-EI_IE37984.11,16.htm 200\n",
      "https://www.glassdoor.com/Overview/Working-at-Novartis-EI_IE6667.11,19.htm 200\n",
      "https://www.glassdoor.com/Overview/Working-at-Condé-Nast-EI_IE8360.11,21.htm 200\n",
      "https://www.glassdoor.com/Overview/Working-at-BlackRock-EI_IE9331.11,20.htm 200\n",
      "https://www.glassdoor.com/Overview/Working-at-Metropolitan-Transportation-Authority-EI_IE366592.11,48.htm 200\n",
      "https://www.glassdoor.com/Overview/Working-at-Abercrombie-and-Fitch-EI_IE6756.11,32.htm 200\n",
      "https://www.glassdoor.com/Overview/Working-at-T-Mobile-EI_IE9302.11,19.htm 200\n",
      "https://www.glassdoor.com/Overview/Working-at-Uniqlo-EI_IE320880.11,17.htm 200\n",
      "https://www.glassdoor.com/Overview/Working-at-Con-Edison-EI_IE16462.11,21.htm 200\n",
      "https://www.glassdoor.com/Overview/Working-at-McKinsey-and-Company-EI_IE2893.11,31.htm 200\n",
      "https://www.glassdoor.com/Overview/Working-at-Century-21-Stores-EI_IE136156.11,28.htm 200\n",
      "https://www.glassdoor.com/Overview/Working-at-Ogilvy-EI_IE13661.11,17.htm 200\n",
      "https://www.glassdoor.com/Overview/Working-at-Infosys-EI_IE7927.11,18.htm 200\n",
      "https://www.glassdoor.com/Overview/Working-at-Stony-Brook-University-EI_IE33757.11,33.htm 200\n",
      "https://www.glassdoor.com/Overview/Working-at-Lowe-s-EI_IE415.11,17.htm 200\n",
      "https://www.glassdoor.com/Overview/Working-at-Barnes-and-Noble-EI_IE2439.11,27.htm 200\n",
      "https://www.glassdoor.com/Overview/Working-at-Forever-21-EI_IE13361.11,21.htm 200\n",
      "https://www.glassdoor.com/Overview/Working-at-Capital-One-EI_IE3736.11,22.htm 200\n",
      "https://www.glassdoor.com/Overview/Working-at-US-Postal-Service-EI_IE3032.11,28.htm 200\n",
      "https://www.glassdoor.com/Overview/Working-at-Tata-Consultancy-Services-EI_IE13461.11,36.htm 200\n",
      "https://www.glassdoor.com/Overview/Working-at-Yelp-EI_IE43314.11,15.htm 200\n",
      "https://www.glassdoor.com/Overview/Working-at-BNP-Paribas-EI_IE10342.11,22.htm 200\n",
      "https://www.glassdoor.com/Overview/Working-at-Success-Academy-Charter-Schools-EI_IE381408.11,42.htm 200\n",
      "https://www.glassdoor.com/Overview/Working-at-JetBlue-EI_IE11385.11,18.htm 200\n",
      "https://www.glassdoor.com/Overview/Working-at-Nielsen-EI_IE3776.11,18.htm 200\n"
     ]
    },
    {
     "name": "stdout",
     "output_type": "stream",
     "text": [
      "https://www.glassdoor.com/Overview/Working-at-Rite-Aid-EI_IE565.11,19.htm 200\n",
      "https://www.glassdoor.com/Overview/Working-at-Saks-Fifth-Avenue-EI_IE2963.11,28.htm 200\n",
      "https://www.glassdoor.com/Overview/Working-at-CUNY-City-University-of-New-York-EI_IE3726.11,43.htm 200\n",
      "https://www.glassdoor.com/Overview/Working-at-J-Crew-EI_IE2848.11,17.htm 200\n",
      "https://www.glassdoor.com/Overview/Working-at-Unilever-EI_IE3513.11,19.htm 200\n",
      "https://www.glassdoor.com/Overview/Working-at-Avon-EI_IE67.11,15.htm 200\n",
      "https://www.glassdoor.com/Overview/Working-at-Mastercard-EI_IE3677.11,21.htm 200\n",
      "https://www.glassdoor.com/Overview/Working-at-Tiffany-and-Co-EI_IE663.11,25.htm 200\n",
      "https://www.glassdoor.com/Overview/Working-at-Town-Sports-International-Holdings-EI_IE8690.11,45.htm 200\n",
      "https://www.glassdoor.com/Overview/Working-at-Robert-Half-EI_IE1838.11,22.htm 200\n",
      "https://www.glassdoor.com/Overview/Working-at-YMCA-EI_IE3046.11,15.htm 200\n",
      "https://www.glassdoor.com/Overview/Working-at-Enterprise-EI_IE2783.11,21.htm 200\n",
      "https://www.glassdoor.com/Overview/Working-at-EmblemHealth-EI_IE157147.11,23.htm 200\n",
      "https://www.glassdoor.com/Overview/Working-at-Stop-and-Shop-EI_IE2117.11,24.htm 200\n",
      "https://www.glassdoor.com/Overview/Working-at-Broadridge-EI_IE42559.11,21.htm 200\n",
      "https://www.glassdoor.com/Overview/Working-at-Moody-s-EI_IE11303.11,18.htm 200\n",
      "https://www.glassdoor.com/Overview/Working-at-Equinox-Fitness-EI_IE134448.11,26.htm 200\n",
      "https://www.glassdoor.com/Overview/Working-at-H-and-M-EI_IE11918.11,18.htm 200\n",
      "https://www.glassdoor.com/edelman 200\n",
      "https://www.glassdoor.com/Overview/Working-at-Hertz-EI_IE4071.11,16.htm 200\n",
      "https://www.glassdoor.com/Overview/Working-at-PVH-Corp-EI_IE530.11,19.htm 200\n",
      "https://www.glassdoor.com/Overview/Working-at-Pearson-EI_IE3322.11,18.htm 200\n",
      "https://www.glassdoor.com/Overview/Working-at-Ann-Taylor-EI_IE1972.11,21.htm 200\n",
      "https://www.glassdoor.com/Overview/Working-at-Lord-and-Taylor-EI_IE42387.11,26.htm 200\n",
      "https://www.glassdoor.com/Overview/Working-at-American-Eagle-Outfitters-EI_IE2642.11,36.htm 200\n",
      "https://www.glassdoor.com/Overview/Working-at-Montefiore-Medical-EI_IE2905.11,29.htm 200\n",
      "https://www.glassdoor.com/Overview/Working-at-Nordstrom-EI_IE1704.11,20.htm 200\n",
      "https://www.glassdoor.com/Overview/Working-at-Scholastic-EI_IE2142.11,21.htm 200\n",
      "https://www.glassdoor.com/Overview/Working-at-Duane-Reade-EI_IE7504.11,22.htm 200\n",
      "https://www.glassdoor.com/Overview/Working-at-Colgate-Palmolive-EI_IE162.11,28.htm 200\n",
      "https://www.glassdoor.com/Overview/Working-at-Wiley-EI_IE1551.11,16.htm 200\n",
      "https://www.glassdoor.com/Overview/Working-at-Hearst-EI_IE2823.11,17.htm 200\n",
      "https://www.glassdoor.com/Overview/Working-at-S-and-P-Global-Ratings-EI_IE30287.11,33.htm 200\n",
      "https://www.glassdoor.com/Overview/Working-at-Weill-Cornell-Medical-College-EI_IE113342.11,40.htm 200\n",
      "https://www.glassdoor.com/Overview/Working-at-Kohl-s-EI_IE592.11,17.htm 200\n",
      "https://www.glassdoor.com/Overview/Working-at-Coach-EI_IE12070.11,16.htm 200\n",
      "https://www.glassdoor.com/Overview/Working-at-Société-Générale-EI_IE10350.11,27.htm 200\n",
      "https://www.glassdoor.com/Overview/Working-at-Trader-Joe-s-EI_IE5631.11,23.htm 200\n",
      "https://www.glassdoor.com/Overview/Working-at-HBO-EI_IE13635.11,14.htm 200\n",
      "https://www.glassdoor.com/Overview/Working-at-Sephora-EI_IE14590.11,18.htm 200\n",
      "https://www.glassdoor.com/Overview/Working-at-NYC-Health-Hospitals-EI_IE1061951.11,31.htm 200\n",
      "https://www.glassdoor.com/Overview/Working-at-Sprint-EI_IE13345.11,17.htm 200\n",
      "https://www.glassdoor.com/Overview/Working-at-Mondo-EI_IE670274.11,16.htm 200\n",
      "https://www.glassdoor.com/Overview/Working-at-Old-Navy-EI_IE18861.11,19.htm 200\n",
      "https://www.glassdoor.com/Overview/Working-at-TransPerfect-EI_IE32824.11,23.htm 200\n",
      "https://www.glassdoor.com/Overview/Working-at-Chipotle-EI_IE15228.11,19.htm 200\n",
      "https://www.glassdoor.com/Overview/Working-at-AllianceBernstein-EI_IE14976.11,28.htm 200\n",
      "https://www.glassdoor.com/Overview/Working-at-Honeywell-EI_IE28.11,20.htm 200\n",
      "https://www.glassdoor.com/Overview/Working-at-New-York-Times-EI_IE960.11,25.htm 200\n",
      "https://www.glassdoor.com/Overview/Working-at-Kmart-EI_IE370.11,16.htm 200\n",
      "https://www.glassdoor.com/Overview/Working-at-Uber-EI_IE575263.11,15.htm 200\n",
      "https://www.glassdoor.com/Overview/Working-at-National-Debt-Relief-EI_IE707737.11,31.htm 200\n",
      "https://www.glassdoor.com/Overview/Working-at-Northwestern-Mutual-EI_IE2919.11,30.htm 200\n",
      "https://www.glassdoor.com/Overview/Working-at-AXA-Advisors-EI_IE27624.11,23.htm 200\n",
      "https://www.glassdoor.com/Overview/Working-at-Bristol-Myers-Squibb-EI_IE107.11,31.htm 200\n",
      "https://www.glassdoor.com/Overview/Working-at-Healthfirst-New-York-EI_IE19100.11,31.htm 200\n",
      "https://www.glassdoor.com/Overview/Working-at-Dunkin-Donuts-EI_IE19153.11,24.htm 200\n",
      "https://www.glassdoor.com/Overview/Working-at-Digitas-EI_IE760746.11,18.htm 200\n",
      "https://www.glassdoor.com/Overview/Working-at-Wipro-EI_IE9936.11,16.htm 200\n",
      "https://www.glassdoor.com/Overview/Working-at-Banana-Republic-EI_IE23057.11,26.htm 200\n",
      "https://www.glassdoor.com/Overview/Working-at-Urban-Outfitters-EI_IE2372.11,27.htm 200\n",
      "https://www.glassdoor.com/Overview/Working-at-CBS-EI_IE117.11,14.htm 200\n",
      "https://www.glassdoor.com/Overview/Working-at-DISH-EI_IE4501.11,15.htm 200\n",
      "https://www.glassdoor.com/Overview/Working-at-The-Children-s-Place-EI_IE7028.11,31.htm 200\n",
      "https://www.glassdoor.com/Overview/Working-at-GEICO-EI_IE270.11,16.htm 200\n",
      "https://www.glassdoor.com/Overview/Working-at-UnitedHealth-Group-EI_IE1991.11,29.htm 200\n",
      "https://www.glassdoor.com/Overview/Working-at-Horizon-Blue-Cross-Blue-Shield-of-New-Jersey-EI_IE299267.11,55.htm 200\n",
      "https://www.glassdoor.com/Overview/Working-at-Visiting-Nurse-Service-of-New-York-EI_IE19812.11,45.htm 200\n",
      "https://www.glassdoor.com/Overview/Working-at-Sanofi-EI_IE9347.11,17.htm 200\n",
      "https://www.glassdoor.com/Overview/Working-at-Altice-EI_IE1315515.11,17.htm 200\n",
      "https://www.glassdoor.com/Overview/Working-at-Madison-Square-Garden-EI_IE16146.11,32.htm 200\n",
      "https://www.glassdoor.com/Overview/Working-at-Insight-Global-EI_IE152783.11,25.htm 200\n",
      "https://www.glassdoor.com/Overview/Working-at-New-York-City-Department-of-Parks-and-Recreation-EI_IE107681.11,59.htm 200\n",
      "https://www.glassdoor.com/Overview/Working-at-BD-EI_IE88.11,13.htm 200\n",
      "https://www.glassdoor.com/Overview/Working-at-Sony-Music-Entertainment-EI_IE37127.11,35.htm 200\n",
      "https://www.glassdoor.com/Overview/Working-at-Canon-U-S-A-EI_IE4149.11,22.htm 200\n",
      "https://www.glassdoor.com/Overview/Working-at-Delta-Air-Lines-EI_IE197.11,26.htm 200\n",
      "https://www.glassdoor.com/Overview/Working-at-Power-Home-Remodeling-EI_IE405781.11,32.htm 200\n",
      "https://www.glassdoor.com/Overview/Working-at-Oracle-EI_IE1737.11,17.htm 200\n",
      "https://www.glassdoor.com/Overview/Working-at-J-C-Penney-EI_IE361.11,21.htm 200\n",
      "https://www.glassdoor.com/Overview/Working-at-Chubb-EI_IE150.11,16.htm 200\n",
      "https://www.glassdoor.com/Overview/Working-at-Microsoft-EI_IE1651.11,20.htm 200\n",
      "https://www.glassdoor.com/Overview/Working-at-Regeneron-Pharmaceuticals-EI_IE981.11,36.htm 200\n",
      "https://www.glassdoor.com/Overview/Working-at-R-GA-EI_IE23929.11,15.htm 200\n",
      "https://www.glassdoor.com/Overview/Working-at-Audible-EI_IE9266.11,18.htm 200\n",
      "https://www.glassdoor.com/Overview/Working-at-AOL-EI_IE2151.11,14.htm 200\n",
      "https://www.glassdoor.com/Overview/Working-at-RBC-EI_IE3358.11,14.htm 200\n",
      "https://www.glassdoor.com/Overview/Working-at-Capri-Holdings-EI_IE20439.11,25.htm 200\n",
      "https://www.glassdoor.com/Overview/Working-at-Zocdoc-EI_IE250247.11,17.htm 200\n",
      "https://www.glassdoor.com/Overview/Working-at-Panera-Bread-EI_IE1493.11,23.htm 200\n",
      "https://www.glassdoor.com/Overview/Working-at-AMC-Entertainment-EI_IE758.11,28.htm 200\n",
      "https://www.glassdoor.com/Overview/Working-at-Grey-Group-EI_IE1459.11,21.htm 200\n",
      "https://www.glassdoor.com/Overview/Working-at-Capgemini-EI_IE3803.11,20.htm 200\n",
      "https://www.glassdoor.com/Overview/Working-at-TIAA-EI_IE2998.11,15.htm 200\n",
      "https://www.glassdoor.com/Overview/Working-at-Panasonic-EI_IE4279.11,20.htm 200\n",
      "https://www.glassdoor.com/Overview/Working-at-GameStop-EI_IE1162.11,19.htm 200\n",
      "https://www.glassdoor.com/Overview/Working-at-Capco-EI_IE400565.11,16.htm 200\n",
      "https://www.glassdoor.com/Overview/Working-at-Samsung-Electronics-America-EI_IE4206.11,38.htm 200\n",
      "https://www.glassdoor.com/Overview/Working-at-Dow-Jones-EI_IE208.11,20.htm 200\n"
     ]
    },
    {
     "name": "stdout",
     "output_type": "stream",
     "text": [
      "https://www.glassdoor.com/Overview/Working-at-Modell-s-Sporting-Goods-EI_IE4382.11,34.htm 200\n",
      "https://www.glassdoor.com/Overview/Working-at-Stevens-Institute-of-Technology-EI_IE24409.11,42.htm 200\n",
      "https://www.glassdoor.com/Overview/Working-at-Nomura-Holdings-EI_IE3475.11,26.htm 200\n",
      "https://www.glassdoor.com/Overview/Working-at-Benjamin-Moore-EI_IE3089.11,25.htm 200\n",
      "https://www.glassdoor.com/Overview/Working-at-PSEG-EI_IE16719.11,15.htm 200\n",
      "https://www.glassdoor.com/Overview/Working-at-Major-League-Baseball-MLB-EI_IE2883.11,36.htm 200\n",
      "https://www.glassdoor.com/Overview/Working-at-Hollister-Co-EI_IE466037.11,23.htm 200\n",
      "https://www.glassdoor.com/Overview/Working-at-Stryker-EI_IE1918.11,18.htm 200\n",
      "https://www.glassdoor.com/Overview/Working-at-Zara-EI_IE17544.11,15.htm 200\n",
      "https://www.glassdoor.com/Overview/Working-at-Quest-Diagnostics-EI_IE6655.11,28.htm 200\n",
      "https://www.glassdoor.com/Overview/Working-at-WeWork-EI_IE661275.11,17.htm 200\n",
      "https://www.glassdoor.com/Overview/Working-at-City-of-New-York-EI_IE43156.11,27.htm 200\n",
      "https://www.glassdoor.com/Overview/Working-at-Xerox-EI_IE747.11,16.htm 200\n",
      "https://www.glassdoor.com/Overview/Working-at-SHI-International-EI_IE14216.11,28.htm 200\n",
      "https://www.glassdoor.com/Overview/Working-at-Penguin-Random-House-EI_IE743403.11,31.htm 200\n",
      "https://www.glassdoor.com/Overview/Working-at-BJ-s-Wholesale-Club-EI_IE6813.11,30.htm 200\n",
      "https://www.glassdoor.com/Overview/Working-at-CIT-EI_IE6835.11,14.htm 200\n",
      "https://www.glassdoor.com/Overview/Working-at-Ross-Stores-EI_IE1843.11,22.htm 200\n",
      "https://www.glassdoor.com/Overview/Working-at-Crothall-Healthcare-EI_IE31949.11,30.htm 200\n",
      "https://www.glassdoor.com/Overview/Working-at-First-Data-EI_IE1787.11,21.htm 200\n",
      "https://www.glassdoor.com/Overview/Working-at-iCIMS-EI_IE34908.11,16.htm 200\n",
      "https://www.glassdoor.com/Overview/Working-at-S-and-P-Global-EI_IE1259396.11,25.htm 200\n",
      "https://www.glassdoor.com/Overview/Working-at-Mercer-EI_IE35818.11,17.htm 200\n",
      "https://www.glassdoor.com/Overview/Working-at-Strategic-Financial-Solutions-EI_IE1027494.11,40.htm 200\n",
      "https://www.glassdoor.com/Overview/Working-at-Burlington-Stores-EI_IE114.11,28.htm 200\n",
      "https://www.glassdoor.com/Overview/Working-at-United-Airlines-EI_IE683.11,26.htm 200\n",
      "https://www.glassdoor.com/Overview/Working-at-S-and-P-Global-Market-Intelligence-EI_IE34323.11,45.htm 200\n",
      "https://www.glassdoor.com/Overview/Working-at-Compass-EI_IE719025.11,18.htm 200\n",
      "https://www.glassdoor.com/Overview/Working-at-Fordham-University-EI_IE5323.11,29.htm 200\n",
      "https://www.glassdoor.com/Overview/Working-at-New-York-and-Company-EI_IE14594.11,31.htm 200\n",
      "https://www.glassdoor.com/Overview/Working-at-Frank-Recruitment-Group-EI_IE1181558.11,34.htm 200\n",
      "https://www.glassdoor.com/Overview/Working-at-Pace-University-EI_IE5328.11,26.htm 200\n",
      "https://www.glassdoor.com/Overview/Working-at-AECOM-EI_IE5632.11,16.htm 200\n",
      "https://www.glassdoor.com/Overview/Working-at-Spectrum-EI_IE1500006.11,19.htm 200\n",
      "https://www.glassdoor.com/Overview/Working-at-FactSet-EI_IE6066.11,18.htm 200\n",
      "https://www.glassdoor.com/Overview/Working-at-Dun-and-Bradstreet-EI_IE213.11,29.htm 200\n",
      "https://www.glassdoor.com/Overview/Working-at-Costco-Wholesale-EI_IE2590.11,27.htm 200\n",
      "https://www.glassdoor.com/Overview/Working-at-Avaya-EI_IE12121.11,16.htm 200\n",
      "https://www.glassdoor.com/Overview/Working-at-RB-EI_IE3600.11,13.htm 200\n",
      "https://www.glassdoor.com/Overview/Working-at-Guardian-Life-EI_IE2810.11,24.htm 200\n",
      "https://www.glassdoor.com/Overview/Working-at-SiriusXM-EI_IE5128.11,19.htm 200\n",
      "https://www.glassdoor.com/Overview/Working-at-Coty-EI_IE7654.11,15.htm 200\n",
      "https://www.glassdoor.com/Overview/Working-at-New-School-EI_IE26556.11,21.htm 200\n",
      "https://www.glassdoor.com/Overview/Working-at-Jefferies-EI_IE1546.11,20.htm 200\n",
      "https://www.glassdoor.com/Overview/Working-at-YAI-Seeing-beyond-disability-EI_IE28937.11,39.htm 200\n",
      "https://www.glassdoor.com/Overview/Working-at-Mavis-Discount-Tire-EI_IE469811.11,30.htm 200\n",
      "https://www.glassdoor.com/Overview/Working-at-NIKE-EI_IE1699.11,15.htm 200\n",
      "https://www.glassdoor.com/Overview/Working-at-BASF-EI_IE4231.11,15.htm 200\n",
      "https://www.glassdoor.com/Overview/Working-at-Medidata-Solutions-EI_IE16679.11,29.htm 200\n",
      "https://www.glassdoor.com/Overview/Working-at-New-York-Police-Department-EI_IE106980.11,37.htm 200\n",
      "https://www.glassdoor.com/Overview/Working-at-Federal-Reserve-Bank-NY-EI_IE5421.11,34.htm 200\n",
      "https://www.glassdoor.com/Overview/Working-at-Port-Authority-of-New-York-and-New-Jersey-EI_IE3680.11,52.htm 200\n",
      "https://www.glassdoor.com/Overview/Working-at-WebMD-Health-EI_IE38258.11,23.htm 200\n",
      "https://www.glassdoor.com/Overview/Working-at-RadioShack-EI_IE641.11,21.htm 200\n",
      "https://www.glassdoor.com/Overview/Working-at-FreshDirect-EI_IE15793.11,22.htm 200\n",
      "https://www.glassdoor.com/Overview/Working-at-Express-EI_IE14597.11,18.htm 200\n",
      "https://www.glassdoor.com/Overview/Working-at-Publicis-EI_IE5844.11,19.htm 200\n",
      "https://www.glassdoor.com/Overview/Working-at-American-Apparel-EI_IE18373.11,27.htm 200\n",
      "https://www.glassdoor.com/Overview/Working-at-Shutterstock-EI_IE270840.11,23.htm 200\n",
      "https://www.glassdoor.com/Overview/Working-at-New-Jersey-Institute-of-Technology-EI_IE25816.11,45.htm 200\n",
      "https://www.glassdoor.com/Overview/Working-at-Aéropostale-EI_IE14914.11,22.htm 200\n",
      "https://www.glassdoor.com/Overview/Working-at-Foot-Locker-EI_IE238.11,22.htm 200\n",
      "https://www.glassdoor.com/Overview/Working-at-Handy-EI_IE680570.11,16.htm 200\n",
      "https://www.glassdoor.com/Overview/Working-at-Bayer-EI_IE4245.11,16.htm 200\n",
      "https://www.glassdoor.com/Overview/Working-at-Anthropologie-EI_IE241754.11,24.htm 200\n",
      "https://www.glassdoor.com/Overview/Working-at-AppNexus-EI_IE347870.11,19.htm 200\n",
      "https://www.glassdoor.com/Overview/Working-at-TJ-Maxx-EI_IE242612.11,18.htm 200\n",
      "https://www.glassdoor.com/Overview/Working-at-Salesforce-EI_IE11159.11,21.htm 200\n",
      "https://www.glassdoor.com/Overview/Working-at-Marriott-International-EI_IE7790.11,33.htm 200\n",
      "https://www.glassdoor.com/Overview/Working-at-Santander-EI_IE828048.11,20.htm 200\n",
      "https://www.glassdoor.com/Overview/Working-at-DTCC-EI_IE14252.11,15.htm 200\n",
      "https://www.glassdoor.com/Overview/Working-at-Allstate-EI_IE2341.11,19.htm 200\n",
      "https://www.glassdoor.com/Overview/Working-at-Massage-Envy-EI_IE114803.11,23.htm 200\n",
      "https://www.glassdoor.com/Overview/Working-at-FDM-Group-EI_IE234827.11,20.htm 200\n",
      "https://www.glassdoor.com/Overview/Working-at-Columbia-University-Medical-Center-EI_IE369238.11,45.htm 200\n",
      "https://www.glassdoor.com/Overview/Working-at-Christie-s-EI_IE10292.11,21.htm 200\n",
      "https://www.glassdoor.com/Overview/Working-at-Horizon-Media-EI_IE13677.11,24.htm 200\n",
      "https://www.glassdoor.com/Overview/Working-at-Applebee-s-EI_IE1453.11,21.htm 200\n",
      "https://www.glassdoor.com/Overview/Working-at-Express-Scripts-EI_IE2212.11,26.htm 200\n",
      "https://www.glassdoor.com/Overview/Working-at-PNC-Financial-Services-Group-EI_IE507.11,39.htm 200\n",
      "https://www.glassdoor.com/Overview/Working-at-DSW-EI_IE38052.11,14.htm 200\n",
      "https://www.glassdoor.com/Overview/Working-at-Avis-Budget-Group-EI_IE7303.11,28.htm 200\n",
      "https://www.glassdoor.com/Overview/Working-at-McGraw-Hill-EI_IE36749.11,22.htm 200\n",
      "https://www.glassdoor.com/Overview/Working-at-Vonage-EI_IE23019.11,17.htm 200\n",
      "https://www.glassdoor.com/Overview/Working-at-Comodo-EI_IE36116.11,17.htm 200\n",
      "https://www.glassdoor.com/Overview/Working-at-Atlantic-Health-System-EI_IE17694.11,33.htm 200\n",
      "https://www.glassdoor.com/Overview/Working-at-Yext-EI_IE312260.11,15.htm 200\n",
      "https://www.glassdoor.com/Overview/Working-at-Mindshare-EI_IE35287.11,20.htm 200\n",
      "https://www.glassdoor.com/Overview/Working-at-OTG-Management-EI_IE372150.11,25.htm 200\n",
      "https://www.glassdoor.com/Overview/Working-at-CITYMD-EI_IE690530.11,17.htm 200\n",
      "https://www.glassdoor.com/Overview/Working-at-New-York-City-Department-of-Health-and-Mental-Hygiene-EI_IE212691.11,64.htm 200\n",
      "https://www.glassdoor.com/Overview/Working-at-Marshalls-EI_IE155412.11,20.htm 200\n",
      "https://www.glassdoor.com/Overview/Working-at-Celgene-EI_IE1235.11,18.htm 200\n",
      "https://www.glassdoor.com/Overview/Working-at-AXA-Equitable-EI_IE19955.11,24.htm 200\n",
      "https://www.glassdoor.com/Overview/Working-at-US-Army-EI_IE41322.11,18.htm 200\n",
      "https://www.glassdoor.com/Overview/Working-at-Genpact-EI_IE42613.11,18.htm 200\n",
      "https://www.glassdoor.com/Overview/Working-at-Commvault-EI_IE16184.11,20.htm 200\n"
     ]
    },
    {
     "name": "stdout",
     "output_type": "stream",
     "text": [
      "https://www.glassdoor.com/Overview/Working-at-BBDO-EI_IE14065.11,15.htm 200\n",
      "https://www.glassdoor.com/Overview/Working-at-MediaMath-EI_IE346865.11,20.htm 200\n",
      "https://www.glassdoor.com/Overview/Working-at-Bain-and-Company-EI_IE3752.11,27.htm 200\n",
      "https://www.glassdoor.com/Overview/Working-at-Achievement-First-EI_IE297029.11,28.htm 200\n",
      "https://www.glassdoor.com/Overview/Working-at-NYSE-EI_IE3307.11,15.htm 200\n",
      "https://www.glassdoor.com/Overview/Working-at-Amplify-EI_IE689638.11,18.htm 200\n",
      "https://www.glassdoor.com/Overview/Working-at-Dollar-Tree-EI_IE4033.11,22.htm 200\n",
      "https://www.glassdoor.com/Overview/Working-at-XO-Group-EI_IE9843.11,19.htm 200\n",
      "https://www.glassdoor.com/Overview/Working-at-A-E-Networks-EI_IE5485.11,23.htm 200\n",
      "https://www.glassdoor.com/Overview/Working-at-Ladders-EI_IE39451.11,18.htm 200\n",
      "https://www.glassdoor.com/Overview/Working-at-Aramark-EI_IE2716.11,18.htm 200\n",
      "https://www.glassdoor.com/Overview/Working-at-Publicis-Sapient-EI_IE1646026.11,27.htm 200\n",
      "https://www.glassdoor.com/Overview/Working-at-FedEx-Ground-EI_IE16846.11,23.htm 200\n",
      "https://www.glassdoor.com/Overview/Working-at-Williams-Lea-Tag-EI_IE31609.11,27.htm 200\n",
      "https://www.glassdoor.com/Overview/Working-at-Brown-Brothers-Harriman-EI_IE3668.11,34.htm 200\n",
      "https://www.glassdoor.com/Overview/Working-at-GLG-EI_IE229651.11,14.htm 200\n",
      "https://www.glassdoor.com/Overview/Working-at-Huge-EI_IE139928.11,15.htm 200\n",
      "https://www.glassdoor.com/Overview/Working-at-Protiviti-EI_IE30849.11,20.htm 200\n",
      "https://www.glassdoor.com/Overview/Working-at-Univision-EI_IE6046.11,20.htm 200\n",
      "https://www.glassdoor.com/Overview/Working-at-Cisco-Systems-EI_IE1425.11,24.htm 200\n",
      "https://www.glassdoor.com/Overview/Working-at-FOX-News-EI_IE19525.11,19.htm 200\n",
      "https://www.glassdoor.com/Overview/Working-at-ALM-EI_IE340655.11,14.htm 200\n",
      "https://www.glassdoor.com/Overview/Working-at-Research-Foundation-of-CUNY-EI_IE17450.11,38.htm 200\n",
      "https://www.glassdoor.com/Overview/Working-at-Michaels-EI_IE945.11,19.htm 200\n",
      "https://www.glassdoor.com/Overview/Working-at-Six-Flags-EI_IE6021.11,20.htm 200\n",
      "https://www.glassdoor.com/Overview/Working-at-Tory-Burch-EI_IE38635.11,21.htm 200\n",
      "https://www.glassdoor.com/Overview/Working-at-The-Nature-s-Bounty-Co-EI_IE1686.11,33.htm 200\n",
      "https://www.glassdoor.com/Overview/Working-at-City-College-of-New-York-EI_IE128592.11,35.htm 200\n",
      "https://www.glassdoor.com/Overview/Working-at-Havas-Worldwide-EI_IE14455.11,26.htm 200\n",
      "https://www.glassdoor.com/Overview/Working-at-Postmates-EI_IE620298.11,20.htm 200\n",
      "https://www.glassdoor.com/Overview/Working-at-Macquarie-Group-EI_IE12088.11,26.htm 200\n",
      "https://www.glassdoor.com/Overview/Working-at-McCann-Worldgroup-EI_IE14074.11,28.htm 200\n",
      "https://www.glassdoor.com/Overview/Working-at-Cantor-Fitzgerald-EI_IE12073.11,28.htm 200\n",
      "https://www.glassdoor.com/Overview/Working-at-Wolters-Kluwer-EI_IE10497.11,25.htm 200\n",
      "https://www.glassdoor.com/Overview/Working-at-Cushman-and-Wakefield-EI_IE7416.11,32.htm 200\n",
      "https://www.glassdoor.com/Overview/Working-at-St-John-s-University-EI_IE5329.11,31.htm 200\n",
      "https://www.glassdoor.com/Overview/Working-at-Party-City-EI_IE6126.11,21.htm 200\n",
      "https://www.glassdoor.com/Overview/Working-at-Meredith-Corporation-EI_IE439.11,31.htm 200\n",
      "https://www.glassdoor.com/Overview/Working-at-Uncommon-Schools-EI_IE315867.11,27.htm 200\n",
      "https://www.glassdoor.com/Overview/Working-at-FedEx-EI_IE246.11,16.htm 200\n",
      "https://www.glassdoor.com/Overview/Working-at-Mondelēz-International-EI_IE628257.11,33.htm 200\n",
      "https://www.glassdoor.com/Overview/Working-at-Teach-for-America-EI_IE105049.11,28.htm 200\n",
      "https://www.glassdoor.com/Overview/Working-at-Henry-Schein-EI_IE5319.11,23.htm 200\n",
      "https://www.glassdoor.com/Overview/Working-at-Metropolitan-Museum-of-Art-EI_IE238657.11,37.htm 200\n",
      "https://www.glassdoor.com/Overview/Working-at-5W-Public-Relations-EI_IE33873.11,30.htm 200\n",
      "https://www.glassdoor.com/Overview/Working-at-SCO-Family-of-Services-EI_IE574431.11,33.htm 200\n",
      "https://www.glassdoor.com/Overview/Working-at-Bath-and-Body-Works-EI_IE13902.11,30.htm 200\n",
      "https://www.glassdoor.com/Overview/Working-at-Willis-Towers-Watson-EI_IE1122768.11,31.htm 200\n",
      "https://www.glassdoor.com/Overview/Working-at-OMD-EI_IE28659.11,14.htm 200\n",
      "https://www.glassdoor.com/Overview/Working-at-Mizuho-Financial-Group-EI_IE42320.11,33.htm 200\n",
      "https://www.glassdoor.com/Overview/Working-at-Everyday-Health-Group-EI_IE101724.11,32.htm 200\n",
      "https://www.glassdoor.com/Overview/Working-at-Albert-Einstein-College-of-Medicine-EI_IE128404.11,46.htm 200\n",
      "https://www.glassdoor.com/facebook 200\n",
      "https://www.glassdoor.com/Overview/Working-at-CBRE-EI_IE465818.11,15.htm 200\n",
      "https://www.glassdoor.com/Overview/Working-at-Fitch-Ratings-EI_IE8579.11,24.htm 200\n",
      "https://www.glassdoor.com/Overview/Working-at-Bethpage-Federal-Credit-Union-EI_IE149409.11,40.htm 200\n",
      "https://www.glassdoor.com/Overview/Working-at-The-Coca-Cola-Company-EI_IE161.11,32.htm 200\n",
      "https://www.glassdoor.com/Overview/Working-at-LinkedIn-EI_IE34865.11,19.htm 200\n",
      "https://www.glassdoor.com/Overview/Working-at-Barneys-EI_IE4070.11,18.htm 200\n",
      "https://www.glassdoor.com/Overview/Working-at-Oliver-Wyman-EI_IE40206.11,23.htm 200\n",
      "https://www.glassdoor.com/Overview/Working-at-Raymour-and-Flanigan-EI_IE16061.11,31.htm 200\n",
      "https://www.glassdoor.com/Overview/Working-at-Verisk-Analytics-EI_IE140233.11,27.htm 200\n",
      "https://www.glassdoor.com/Overview/Working-at-Conduent-EI_IE1492856.11,19.htm 200\n",
      "https://www.glassdoor.com/Overview/Working-at-Ricoh-USA-EI_IE21210.11,20.htm 200\n",
      "https://www.glassdoor.com/Overview/Working-at-inVentiv-Health-EI_IE9919.11,26.htm 200\n",
      "https://www.glassdoor.com/Overview/Working-at-IPsoft-EI_IE101271.11,17.htm 200\n",
      "https://www.glassdoor.com/Overview/Working-at-IQVIA-EI_IE8347.11,16.htm 200\n",
      "https://www.glassdoor.com/Overview/Working-at-Adecco-EI_IE1089.11,17.htm 200\n",
      "https://www.glassdoor.com/Overview/Working-at-360i-EI_IE28489.11,15.htm 200\n",
      "https://www.glassdoor.com/Overview/Working-at-T3-Trading-Group-EI_IE489104.11,27.htm 200\n",
      "https://www.glassdoor.com/Overview/Working-at-Walt-Disney-Company-EI_IE717.11,30.htm 200\n",
      "https://www.glassdoor.com/Overview/Working-at-Marsh-and-McLennan-Companies-EI_IE426.11,39.htm 200\n",
      "https://www.glassdoor.com/Overview/Working-at-Information-Builders-EI_IE4044.11,31.htm 200\n",
      "https://www.glassdoor.com/Overview/Working-at-IHS-Markit-EI_IE1337673.11,21.htm 200\n",
      "https://www.glassdoor.com/Overview/Working-at-PageGroup-EI_IE749832.11,20.htm 200\n",
      "https://www.glassdoor.com/Overview/Working-at-E-TRADE-Financial-EI_IE6005.11,28.htm 200\n",
      "https://www.glassdoor.com/Overview/Working-at-Oxford-University-Press-EI_IE587409.11,34.htm 200\n",
      "https://www.glassdoor.com/Overview/Working-at-Club-Monaco-EI_IE142558.11,22.htm 200\n",
      "https://www.glassdoor.com/Overview/Working-at-Green-Key-Resources-EI_IE312916.11,30.htm 200\n",
      "https://www.glassdoor.com/Overview/Working-at-Harlem-Children-s-Zone-EI_IE251788.11,33.htm 200\n",
      "https://www.glassdoor.com/Overview/Working-at-Global-Brands-Group-EI_IE877517.11,30.htm 200\n",
      "https://www.glassdoor.com/Overview/Working-at-The-Forum-Group-EI_IE319898.11,26.htm 200\n",
      "https://www.glassdoor.com/Overview/Working-at-College-Board-EI_IE18437.11,24.htm 200\n",
      "https://www.glassdoor.com/Overview/Working-at-Forrest-Solutions-EI_IE338388.11,28.htm 200\n",
      "https://www.glassdoor.com/Overview/Working-at-Valley-National-Bancorp-EI_IE2007.11,34.htm 200\n",
      "https://www.glassdoor.com/Overview/Working-at-Realogy-EI_IE41918.11,18.htm 200\n",
      "https://www.glassdoor.com/Overview/Working-at-Tommy-Hilfiger-EI_IE5763.11,25.htm 200\n",
      "https://www.glassdoor.com/Overview/Working-at-Kaplan-Test-Prep-EI_IE297128.11,27.htm 200\n",
      "https://www.glassdoor.com/Overview/Working-at-The-Jones-Group-EI_IE1971.11,26.htm 200\n",
      "https://www.glassdoor.com/Overview/Working-at-JLL-EI_IE5779.11,14.htm 200\n",
      "https://www.glassdoor.com/Overview/Working-at-Turner-Construction-EI_IE19014.11,30.htm 200\n",
      "https://www.glassdoor.com/Overview/Working-at-FTI-Consulting-EI_IE6069.11,25.htm 200\n",
      "https://www.glassdoor.com/Overview/Working-at-National-Grid-USA-EI_IE474.11,28.htm 200\n",
      "https://www.glassdoor.com/Overview/Working-at-MongoDB-EI_IE433703.11,18.htm 200\n",
      "https://www.glassdoor.com/Overview/Working-at-New-York-Public-Library-EI_IE5416.11,34.htm 200\n",
      "https://www.glassdoor.com/Overview/Working-at-Petco-EI_IE37962.11,16.htm 200\n"
     ]
    },
    {
     "name": "stdout",
     "output_type": "stream",
     "text": [
      "https://www.glassdoor.com/Overview/Working-at-Roche-EI_IE3480.11,16.htm 200\n",
      "https://www.glassdoor.com/Overview/Working-at-Grant-Thornton-EI_IE100134.11,25.htm 200\n",
      "https://www.glassdoor.com/Overview/Working-at-iHeartMedia-EI_IE354635.11,22.htm 200\n",
      "https://www.glassdoor.com/Overview/Working-at-J-Walter-Thompson-Worldwide-EI_IE13666.11,38.htm 200\n",
      "https://www.glassdoor.com/Overview/Working-at-Bank-Of-Tokyo-Mitsubishi-UFJ-EI_IE240039.11,39.htm 200\n",
      "https://www.glassdoor.com/Overview/Working-at-Ipreo-EI_IE12636.11,16.htm 200\n",
      "https://www.glassdoor.com/Overview/Working-at-Siemens-EI_IE3510.11,18.htm 200\n",
      "https://www.glassdoor.com/spotify 200\n",
      "https://www.glassdoor.com/Overview/Working-at-Fidelis-Care-EI_IE27742.11,23.htm 200\n",
      "https://www.glassdoor.com/Overview/Working-at-The-NPD-Group-EI_IE6937.11,24.htm 200\n",
      "https://www.glassdoor.com/Overview/Working-at-VaynerMedia-EI_IE482441.11,22.htm 200\n",
      "https://www.glassdoor.com/Overview/Working-at-Rockefeller-University-EI_IE5419.11,33.htm 200\n",
      "https://www.glassdoor.com/Overview/Working-at-HCL-Technologies-EI_IE553909.11,27.htm 200\n",
      "https://www.glassdoor.com/Overview/Working-at-Wendy-s-EI_IE728.11,18.htm 200\n",
      "https://www.glassdoor.com/Overview/Working-at-Allied-Universal-EI_IE1352584.11,27.htm 200\n",
      "https://www.glassdoor.com/Overview/Working-at-Kumon-Group-EI_IE195805.11,22.htm 200\n",
      "https://www.glassdoor.com/Overview/Working-at-FINRA-EI_IE108071.11,16.htm 200\n",
      "https://www.glassdoor.com/Overview/Working-at-FLIK-Hospitality-Group-EI_IE683103.11,33.htm 200\n",
      "https://www.glassdoor.com/Overview/Working-at-Blue-Apron-EI_IE777496.11,21.htm 200\n",
      "https://www.glassdoor.com/Overview/Working-at-CDM-EI_IE38955.11,14.htm 200\n",
      "https://www.glassdoor.com/Overview/Working-at-AlphaSights-EI_IE465088.11,22.htm 200\n",
      "https://www.glassdoor.com/Overview/Working-at-Neuberger-Berman-EI_IE8711.11,27.htm 200\n",
      "https://www.glassdoor.com/Overview/Working-at-Rent-The-Runway-EI_IE473698.11,26.htm 200\n",
      "https://www.glassdoor.com/Overview/Working-at-Brookhaven-National-Laboratory-EI_IE35239.11,41.htm 200\n",
      "https://www.glassdoor.com/Overview/Working-at-Ericsson-Worldwide-EI_IE3472.11,29.htm 200\n",
      "https://www.glassdoor.com/Overview/Working-at-State-Farm-EI_IE2990.11,21.htm 200\n",
      "https://www.glassdoor.com/Overview/Working-at-PetSmart-EI_IE2375.11,19.htm 200\n",
      "https://www.glassdoor.com/Overview/Working-at-H-and-R-Block-EI_IE303.11,24.htm 200\n",
      "https://www.glassdoor.com/Overview/Working-at-Fragomen-EI_IE109142.11,19.htm 200\n",
      "https://www.glassdoor.com/Overview/Working-at-WW-EI_IE6970.11,13.htm 200\n",
      "https://www.glassdoor.com/Overview/Working-at-Rue-Gilt-Groupe-EI_IE369485.11,26.htm 200\n",
      "https://www.glassdoor.com/Overview/Working-at-Douglas-Elliman-Real-Estate-EI_IE277679.11,38.htm 200\n",
      "https://www.glassdoor.com/Overview/Working-at-7-Eleven-EI_IE3581.11,19.htm 200\n",
      "https://www.glassdoor.com/Overview/Working-at-LexisNexis-Legal-and-Professional-EI_IE4146.11,44.htm 200\n",
      "https://www.glassdoor.com/Overview/Working-at-RSM-EI_IE691963.11,14.htm 200\n",
      "https://www.glassdoor.com/Overview/Working-at-Vice-Media-EI_IE26906.11,21.htm 200\n",
      "https://www.glassdoor.com/Overview/Working-at-New-York-Community-Bancorp-EI_IE2492.11,37.htm 200\n",
      "https://www.glassdoor.com/Overview/Working-at-Long-Island-University-EI_IE26448.11,33.htm 200\n",
      "https://www.glassdoor.com/Overview/Working-at-Thomas-EI_IE586327.11,17.htm 200\n",
      "https://www.glassdoor.com/Overview/Working-at-Makerbot-EI_IE480203.11,19.htm 200\n",
      "https://www.glassdoor.com/Overview/Working-at-Fidelity-Investments-EI_IE2786.11,31.htm 200\n",
      "https://www.glassdoor.com/Overview/Working-at-European-Wax-Center-EI_IE397347.11,30.htm 200\n",
      "https://www.glassdoor.com/Overview/Working-at-National-Income-Life-EI_IE352862.11,31.htm 200\n",
      "https://www.glassdoor.com/Overview/Working-at-Bio-Reference-Labs-EI_IE4766.11,29.htm 200\n",
      "https://www.glassdoor.com/Overview/Working-at-Vector-Marketing-EI_IE26785.11,27.htm 200\n",
      "https://www.glassdoor.com/Overview/Working-at-MAC-Cosmetics-EI_IE229529.11,24.htm 200\n",
      "https://www.glassdoor.com/Overview/Working-at-TD-Ameritrade-EI_IE6601.11,24.htm 200\n",
      "https://www.glassdoor.com/Overview/Working-at-Nasdaq-EI_IE12152.11,17.htm 200\n",
      "https://www.glassdoor.com/Overview/Working-at-Mercedes-Benz-USA-EI_IE23354.11,28.htm 200\n",
      "https://www.glassdoor.com/Overview/Working-at-MEC-EI_IE15242.11,14.htm 200\n",
      "https://www.glassdoor.com/Overview/Working-at-Oscar-Health-EI_IE812257.11,23.htm 200\n",
      "https://www.glassdoor.com/Overview/Working-at-WarnerMedia-EI_IE12777.11,22.htm 200\n",
      "https://www.glassdoor.com/Overview/Working-at-Hospital-for-Special-Surgery-EI_IE27388.11,39.htm 200\n",
      "https://www.glassdoor.com/Overview/Working-at-New-York-Institute-of-Technology-EI_IE128615.11,43.htm 200\n",
      "https://www.glassdoor.com/Overview/Working-at-GroupM-EI_IE318409.11,17.htm 200\n",
      "https://www.glassdoor.com/Overview/Working-at-Carat-EI_IE35841.11,16.htm 200\n",
      "https://www.glassdoor.com/Overview/Working-at-Interbrand-EI_IE34131.11,21.htm 200\n",
      "https://www.glassdoor.com/Overview/Working-at-OnDeck-EI_IE445023.11,17.htm 200\n",
      "https://www.glassdoor.com/Overview/Working-at-Crestron-Electronics-EI_IE11938.11,31.htm 200\n",
      "https://www.glassdoor.com/Overview/Working-at-Argus-Information-and-Advisory-Services-EI_IE108135.11,50.htm 200\n",
      "https://www.glassdoor.com/Overview/Working-at-Weber-Shandwick-EI_IE14342.11,26.htm 200\n",
      "https://www.glassdoor.com/Overview/Working-at-Burger-King-EI_IE7201.11,22.htm 200\n",
      "https://www.glassdoor.com/Overview/Working-at-Experian-EI_IE42406.11,19.htm 200\n",
      "https://www.glassdoor.com/Overview/Working-at-Bright-Horizons-Family-Solutions-EI_IE6525.11,43.htm 200\n",
      "https://www.glassdoor.com/Overview/Working-at-kate-spade-EI_IE17245.11,21.htm 200\n",
      "https://www.glassdoor.com/Overview/Working-at-Baruch-College-EI_IE31199.11,25.htm 200\n",
      "https://www.glassdoor.com/Overview/Working-at-Sprinklr-EI_IE427532.11,19.htm 200\n",
      "https://www.glassdoor.com/Overview/Working-at-Integra-LifeSciences-EI_IE5438.11,31.htm 200\n",
      "https://www.glassdoor.com/Overview/Working-at-Spark-Foundry-EI_IE261457.11,24.htm 200\n",
      "https://www.glassdoor.com/Overview/Working-at-New-York-City-Housing-Authority-EI_IE297460.11,42.htm 200\n",
      "https://www.glassdoor.com/Overview/Working-at-Martha-Stewart-Living-EI_IE6715.11,32.htm 200\n",
      "https://www.glassdoor.com/Overview/Working-at-TheStreet-EI_IE7494.11,20.htm 200\n",
      "https://www.glassdoor.com/Overview/Working-at-Life-Time-EI_IE21088.11,20.htm 200\n",
      "https://www.glassdoor.com/Overview/Working-at-Aflac-EI_IE1302.11,16.htm 200\n",
      "https://www.glassdoor.com/Overview/Working-at-Boston-Consulting-Group-EI_IE3879.11,34.htm 200\n",
      "https://www.glassdoor.com/Overview/Working-at-Infor-EI_IE15375.11,16.htm 200\n",
      "https://www.glassdoor.com/Overview/Working-at-BAYADA-Home-Health-Care-EI_IE153924.11,34.htm 200\n",
      "https://www.glassdoor.com/Overview/Working-at-Discovery-Inc-EI_IE4220.11,24.htm 200\n",
      "https://www.glassdoor.com/Overview/Working-at-Hunter-College-EI_IE128609.11,25.htm 200\n",
      "https://www.glassdoor.com/Overview/Working-at-US-Standard-Products-EI_IE965441.11,31.htm 200\n",
      "https://www.glassdoor.com/Overview/Working-at-Keller-Williams-EI_IE114145.11,26.htm 200\n",
      "https://www.glassdoor.com/Overview/Working-at-The-Container-Store-EI_IE4462.11,30.htm 200\n",
      "https://www.glassdoor.com/Overview/Working-at-Gensler-EI_IE14045.11,18.htm 200\n",
      "https://www.glassdoor.com/Overview/Working-at-SinglePlatform-EI_IE427415.11,25.htm 200\n",
      "https://www.glassdoor.com/Overview/Working-at-TGI-Fridays-EI_IE109078.11,22.htm 200\n",
      "https://www.glassdoor.com/Overview/Working-at-Wawa-EI_IE3041.11,15.htm 504\n",
      "Error\n",
      "https://www.glassdoor.com/Overview/Working-at-Konica-Minolta-Business-Solutions-EI_IE27336.11,44.htm 200\n",
      "https://www.glassdoor.com/Overview/Working-at-The-Vitamin-Shoppe-EI_IE9653.11,29.htm 504\n",
      "Error\n",
      "https://www.glassdoor.com/Overview/Working-at-BDO-USA-EI_IE346477.11,18.htm 200\n",
      "https://www.glassdoor.com/Overview/Working-at-Marsh-EI_IE2852.11,16.htm 200\n",
      "https://www.glassdoor.com/Overview/Working-at-FCB-Global-EI_IE16031.11,21.htm 200\n",
      "https://www.glassdoor.com/Overview/Working-at-Saatchi-and-Saatchi-Group-EI_IE1466850.11,36.htm 200\n",
      "https://www.glassdoor.com/Overview/Working-at-CareOne-EI_IE243694.11,18.htm 200\n",
      "https://www.glassdoor.com/Overview/Working-at-Robert-Wood-Johnson-University-Hospital-EI_IE20191.11,50.htm 200\n",
      "https://www.glassdoor.com/Overview/Working-at-NYC-Department-of-Human-Resource-Administration-EI_IE245633.11,58.htm 200\n"
     ]
    },
    {
     "name": "stdout",
     "output_type": "stream",
     "text": [
      "https://www.glassdoor.com/Overview/Working-at-Subway-EI_IE2994.11,17.htm 200\n",
      "https://www.glassdoor.com/Overview/Working-at-DICK-S-Sporting-Goods-EI_IE8666.11,32.htm 200\n",
      "https://www.glassdoor.com/Overview/Working-at-American-Airlines-EI_IE8.11,28.htm 200\n",
      "https://www.glassdoor.com/Overview/Working-at-EXL-Service-EI_IE37901.11,22.htm 200\n",
      "https://www.glassdoor.com/Overview/Working-at-Allergan-EI_IE27.11,19.htm 200\n",
      "https://www.glassdoor.com/Overview/Working-at-NBA-EI_IE2908.11,14.htm 200\n",
      "https://www.glassdoor.com/Overview/Working-at-Simon-and-Schuster-EI_IE4148.11,29.htm 200\n",
      "https://www.glassdoor.com/Overview/Working-at-AHRC-New-York-City-EI_IE456300.11,29.htm 200\n",
      "https://www.glassdoor.com/sap 200\n",
      "https://www.glassdoor.com/Overview/Working-at-IKEA-EI_IE3957.11,15.htm 200\n",
      "https://www.glassdoor.com/Overview/Working-at-GNC-EI_IE2270.11,14.htm 200\n",
      "https://www.glassdoor.com/Overview/Working-at-Huntington-Learning-Centers-EI_IE7937.11,38.htm 200\n",
      "https://www.glassdoor.com/Overview/Working-at-Bluewolf-EI_IE158481.11,19.htm 200\n"
     ]
    }
   ],
   "source": [
    "headers = {'User-Agent': 'Mozilla/5.0 (Windows NT 6.1; WOW64) AppleWebKit/537.36 (KHTML, like Gecko) Chrome/56.0.2924.76 Safari/537.36'} # This is chrome, you can set whatever browser you like\n",
    "\n",
    "for key in final_dict:\n",
    "    # request to company link\n",
    "    response = requests.get(final_dict[key]['link'], headers=headers)\n",
    "    print(final_dict[key]['link'], response.status_code)\n",
    "    soup = BeautifulSoup(response.content, 'html.parser') #Pass the page contents to beautiful soup for parsing\n",
    "    \n",
    "    # pick up company's labels\n",
    "    info = soup.findAll('div', {'class':'info flexbox row col-hh'})\n",
    "    labels_list = []\n",
    "    for i in info:\n",
    "        labels_t = i.findAll('label')\n",
    "    for l in labels_t:\n",
    "        labels_list.append(l.get_text())\n",
    "    # pick up company's label values\n",
    "    info_vals = soup.findAll('span', {'class':'value'})\n",
    "    values_list = []\n",
    "    for i in info_vals:\n",
    "        values_list.append(i.get_text())\n",
    "    if len(labels_list) != len(values_list):\n",
    "        print('Error')\n",
    "    else:\n",
    "        for i in range(len(labels_list)):\n",
    "            final_dict[key][labels_list[i]] = values_list[i]"
   ]
  },
  {
   "cell_type": "code",
   "execution_count": 53,
   "metadata": {},
   "outputs": [
    {
     "data": {
      "text/plain": [
       "500"
      ]
     },
     "execution_count": 53,
     "metadata": {},
     "output_type": "execute_result"
    }
   ],
   "source": [
    "len(final_dict)"
   ]
  },
  {
   "cell_type": "code",
   "execution_count": 57,
   "metadata": {},
   "outputs": [],
   "source": [
    "# Save & Store File (Pickle)\n",
    "filename = \"final_dict\"\n",
    "outfile = open(filename, 'wb')\n",
    "pickle.dump(final_dict, outfile)\n",
    "outfile.close()"
   ]
  },
  {
   "cell_type": "code",
   "execution_count": 58,
   "metadata": {},
   "outputs": [],
   "source": [
    "outfile.close()"
   ]
  },
  {
   "cell_type": "code",
   "execution_count": null,
   "metadata": {},
   "outputs": [],
   "source": [
    "# Load the dictionary back from the pickle file.\n",
    "new_dict = pickle.load( open( \"final_dict\", \"rb\" ) )"
   ]
  },
  {
   "cell_type": "code",
   "execution_count": null,
   "metadata": {},
   "outputs": [],
   "source": [
    "# Retrieve File (Un-pickle)\n",
    "# infile = open(filename,'rb')\n",
    "# new_dict = pickle.load(infile)\n",
    "infile.close()\n",
    "# confirm it's loaded accurately\n",
    "print(new_dict)\n",
    "print(new_dict==final_dict)\n",
    "print(type(new_dict))"
   ]
  },
  {
   "cell_type": "code",
   "execution_count": null,
   "metadata": {},
   "outputs": [],
   "source": []
  },
  {
   "cell_type": "code",
   "execution_count": null,
   "metadata": {},
   "outputs": [],
   "source": []
  },
  {
   "cell_type": "code",
   "execution_count": null,
   "metadata": {},
   "outputs": [],
   "source": []
  },
  {
   "cell_type": "code",
   "execution_count": null,
   "metadata": {},
   "outputs": [],
   "source": [
    "https://www.glassdoor.com/Reviews/new-york-city-reviews-SRCH_IL.0,13_IM615.htm\n",
    "https://www.glassdoor.com/Reviews/new-york-city-reviews-SRCH_IL.0,13_IM615_IP2.htm\n",
    "https://www.glassdoor.com/Reviews/new-york-city-reviews-SRCH_IL.0,13_IM615_IP3.htm\n",
    "<a href=\"/Overview/Working-at-J-P-Morgan-EI_IE145.11,21.htm\" data-ajax=\"true\" class=\"sqLogoLink\"><span class=\"sqLogo tighten lgSqLogo logoOverlay\"><img src=\"https://media.glassdoor.com/sql/145/j-p-morgan-squarelogo-1479932535271.png\" class=\"\" alt=\"J.P. Morgan Logo\" title=\"\"></span></a>\n",
    "<div class=\"info flexbox row col-hh\"><div class=\"infoEntity\"><label>Website</label><span class=\"value website\"><a class=\"link\" href=\"http://www.jpmorgan.com\" target=\"_blank\" rel=\"nofollow noreferrer\">www.jpmorgan.com</a></span></div><div class=\"infoEntity\"><label>Headquarters</label><span class=\"value\">New York, NY</span></div><div class=\"infoEntity\"><label>Size</label><span class=\"value\">10000+ employees</span></div><div class=\"infoEntity\"><label>Founded</label><span class=\"value\"> 1799</span></div><div class=\"infoEntity\"><label>Type</label><span class=\"value\"> Company - Public (JPM) </span></div><div class=\"infoEntity\"><label>Industry</label><span class=\"value\"> Investment Banking &amp; Asset Management</span></div><div class=\"infoEntity\"><label>Revenue</label><span class=\"value\"> $10+ billion (USD) per year</span></div></div>\n"
   ]
  },
  {
   "cell_type": "code",
   "execution_count": null,
   "metadata": {},
   "outputs": [],
   "source": [
    "# GET and prettify via Beautiful Soup\n",
    "headers = {'User-Agent': 'Mozilla/5.0 (Windows NT 6.1; WOW64) AppleWebKit/537.36 (KHTML, like Gecko) Chrome/56.0.2924.76 Safari/537.36'} # This is chrome, you can set whatever browser you like\n",
    "response = requests.get(\"https://www.glassdoor.com/Reviews/new-york-city-reviews-SRCH_IL.0,13_IM615.htm\", headers=headers)\n",
    "print(response.status_code)"
   ]
  },
  {
   "cell_type": "code",
   "execution_count": null,
   "metadata": {},
   "outputs": [],
   "source": []
  }
 ],
 "metadata": {
  "kernelspec": {
   "display_name": "Python 3",
   "language": "python",
   "name": "python3"
  },
  "language_info": {
   "codemirror_mode": {
    "name": "ipython",
    "version": 3
   },
   "file_extension": ".py",
   "mimetype": "text/x-python",
   "name": "python",
   "nbconvert_exporter": "python",
   "pygments_lexer": "ipython3",
   "version": "3.7.3"
  },
  "toc": {
   "base_numbering": 1,
   "nav_menu": {},
   "number_sections": true,
   "sideBar": true,
   "skip_h1_title": false,
   "title_cell": "Table of Contents",
   "title_sidebar": "Contents",
   "toc_cell": false,
   "toc_position": {},
   "toc_section_display": true,
   "toc_window_display": false
  }
 },
 "nbformat": 4,
 "nbformat_minor": 2
}
