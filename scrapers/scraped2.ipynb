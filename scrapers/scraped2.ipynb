{
 "cells": [
  {
   "cell_type": "code",
   "execution_count": 1,
   "metadata": {},
   "outputs": [
    {
     "name": "stdout",
     "output_type": "stream",
     "text": [
      "Interactive namespace is empty.\n"
     ]
    }
   ],
   "source": [
    "%whos"
   ]
  },
  {
   "cell_type": "code",
   "execution_count": 5,
   "metadata": {},
   "outputs": [],
   "source": [
    "from bs4 import BeautifulSoup\n",
    "import requests\n",
    "import copy\n",
    "import re\n",
    "import pickle\n",
    "from collections import defaultdict\n",
    "import sys\n",
    "import matplotlib\n",
    "import matplotlib.pyplot as plt\n",
    "import time\n",
    "sys.setrecursionlimit(40000) # to enable pickle to handle the dictionary load"
   ]
  },
  {
   "cell_type": "code",
   "execution_count": 2,
   "metadata": {},
   "outputs": [
    {
     "name": "stdout",
     "output_type": "stream",
     "text": [
      "200\n"
     ]
    }
   ],
   "source": [
    "# GET and prettify via Beautiful Soup\n",
    "headers = {'User-Agent': 'Mozilla/5.0 (Windows NT 6.1; WOW64) AppleWebKit/537.36 (KHTML, like Gecko) Chrome/56.0.2924.76 Safari/537.36'} # This is chrome, you can set whatever browser you like\n",
    "response = requests.get(\"https://www.glassdoor.com/Reviews/new-york-city-reviews-SRCH_IL.0,13_IM615.htm\", headers=headers)\n",
    "print(response.status_code)"
   ]
  },
  {
   "cell_type": "code",
   "execution_count": 3,
   "metadata": {},
   "outputs": [
    {
     "name": "stdout",
     "output_type": "stream",
     "text": [
      "[' J.P. Morgan ', ' IBM ', ' Citi ', \" Macy's \", ' Verizon ', ' Morgan Stanley ', ' Goldman Sachs ', ' PwC ', ' EY ', ' Deloitte ']\n"
     ]
    }
   ],
   "source": [
    "co_list = []\n",
    "soup = BeautifulSoup(response.content, 'html.parser') #Pass the page contents to beautiful soup for parsing\n",
    "# soup.prettify # test-print\n",
    "cos = soup.findAll('a', {'class':'tightAll h2'})\n",
    "\n",
    "for c in cos:\n",
    "    co_list.append(c.get_text())\n",
    "print(co_list)"
   ]
  },
  {
   "cell_type": "code",
   "execution_count": 4,
   "metadata": {},
   "outputs": [
    {
     "name": "stdout",
     "output_type": "stream",
     "text": [
      "['https://www.glassdoor.com/Overview/Working-at-J-P-Morgan-EI_IE145.11,21.htm', 'https://www.glassdoor.com/Overview/Working-at-IBM-EI_IE354.11,14.htm', 'https://www.glassdoor.com/citi', 'https://www.glassdoor.com/Overview/Working-at-Macy-s-EI_IE1079.11,17.htm', 'https://www.glassdoor.com/Overview/Working-at-Verizon-EI_IE89.11,18.htm', 'https://www.glassdoor.com/Overview/Working-at-Morgan-Stanley-EI_IE2282.11,25.htm', 'https://www.glassdoor.com/Overview/Working-at-Goldman-Sachs-EI_IE2800.11,24.htm', 'https://www.glassdoor.com/Overview/Working-at-PwC-EI_IE8450.11,14.htm', 'https://www.glassdoor.com/Overview/Working-at-EY-EI_IE2784.11,13.htm', 'https://www.glassdoor.com/Overview/Working-at-Deloitte-EI_IE2763.11,19.htm']\n"
     ]
    }
   ],
   "source": [
    "reviews = soup.findAll('a', {'class':'sqLogoLink'})\n",
    "revs_list = []\n",
    "for r in reviews:\n",
    "    revs_list.append('https://www.glassdoor.com'+r.get('href', '\\n'))\n",
    "print(revs_list)"
   ]
  },
  {
   "cell_type": "code",
   "execution_count": 5,
   "metadata": {},
   "outputs": [
    {
     "name": "stdout",
     "output_type": "stream",
     "text": [
      "{' J.P. Morgan ': 'https://www.glassdoor.com/Overview/Working-at-J-P-Morgan-EI_IE145.11,21.htm', ' IBM ': 'https://www.glassdoor.com/Overview/Working-at-IBM-EI_IE354.11,14.htm', ' Citi ': 'https://www.glassdoor.com/citi', \" Macy's \": 'https://www.glassdoor.com/Overview/Working-at-Macy-s-EI_IE1079.11,17.htm', ' Verizon ': 'https://www.glassdoor.com/Overview/Working-at-Verizon-EI_IE89.11,18.htm', ' Morgan Stanley ': 'https://www.glassdoor.com/Overview/Working-at-Morgan-Stanley-EI_IE2282.11,25.htm', ' Goldman Sachs ': 'https://www.glassdoor.com/Overview/Working-at-Goldman-Sachs-EI_IE2800.11,24.htm', ' PwC ': 'https://www.glassdoor.com/Overview/Working-at-PwC-EI_IE8450.11,14.htm', ' EY ': 'https://www.glassdoor.com/Overview/Working-at-EY-EI_IE2784.11,13.htm', ' Deloitte ': 'https://www.glassdoor.com/Overview/Working-at-Deloitte-EI_IE2763.11,19.htm'}\n"
     ]
    }
   ],
   "source": [
    "main_dict = {}\n",
    "for i in range(10):\n",
    "    main_dict[co_list[i]] = revs_list[i]\n",
    "print(main_dict)"
   ]
  },
  {
   "cell_type": "code",
   "execution_count": null,
   "metadata": {},
   "outputs": [],
   "source": [
    "https://www.glassdoor.com/Overview/Working-at-J-P-Morgan-EI_IE145.11,21.htm\n",
    "https://www.glassdoor.com/Overview/Working-at-IBM-EI_IE354.11,14.htm"
   ]
  },
  {
   "cell_type": "code",
   "execution_count": null,
   "metadata": {},
   "outputs": [],
   "source": []
  },
  {
   "cell_type": "code",
   "execution_count": 34,
   "metadata": {},
   "outputs": [
    {
     "name": "stdout",
     "output_type": "stream",
     "text": [
      "https://www.glassdoor.com/Reviews/new-york-city-reviews-SRCH_IL.0,13_IM615.htm 200\n",
      "https://www.glassdoor.com/Reviews/new-york-city-reviews-SRCH_IL.0,13_IM615_IP2.htm 200\n",
      "https://www.glassdoor.com/Reviews/new-york-city-reviews-SRCH_IL.0,13_IM615_IP3.htm 200\n",
      "https://www.glassdoor.com/Reviews/new-york-city-reviews-SRCH_IL.0,13_IM615_IP4.htm 200\n",
      "https://www.glassdoor.com/Reviews/new-york-city-reviews-SRCH_IL.0,13_IM615_IP5.htm 200\n",
      "{' J.P. Morgan ': {'link': 'https://www.glassdoor.com/Overview/Working-at-J-P-Morgan-EI_IE145.11,21.htm'}, ' IBM ': {'link': 'https://www.glassdoor.com/Overview/Working-at-IBM-EI_IE354.11,14.htm'}, ' Citi ': {'link': 'https://www.glassdoor.com/citi'}, \" Macy's \": {'link': 'https://www.glassdoor.com/Overview/Working-at-Macy-s-EI_IE1079.11,17.htm'}, ' Verizon ': {'link': 'https://www.glassdoor.com/Overview/Working-at-Verizon-EI_IE89.11,18.htm'}, ' Morgan Stanley ': {'link': 'https://www.glassdoor.com/Overview/Working-at-Morgan-Stanley-EI_IE2282.11,25.htm'}, ' Goldman Sachs ': {'link': 'https://www.glassdoor.com/Overview/Working-at-Goldman-Sachs-EI_IE2800.11,24.htm'}, ' PwC ': {'link': 'https://www.glassdoor.com/Overview/Working-at-PwC-EI_IE8450.11,14.htm'}, ' EY ': {'link': 'https://www.glassdoor.com/Overview/Working-at-EY-EI_IE2784.11,13.htm'}, ' Deloitte ': {'link': 'https://www.glassdoor.com/Overview/Working-at-Deloitte-EI_IE2763.11,19.htm'}, ' Cognizant Technology Solutions ': {'link': 'https://www.glassdoor.com/Overview/Working-at-Cognizant-Technology-Solutions-EI_IE8014.11,41.htm'}, ' Bloomberg L.P. ': {'link': 'https://www.glassdoor.com/Overview/Working-at-Bloomberg-L-P-EI_IE3096.11,24.htm'}, ' Bank of America ': {'link': 'https://www.glassdoor.com/Overview/Working-at-Bank-of-America-EI_IE8874.11,26.htm'}, ' American Express ': {'link': 'https://www.glassdoor.com/Overview/Working-at-American-Express-EI_IE35.11,27.htm'}, ' Columbia University ': {'link': 'https://www.glassdoor.com/Overview/Working-at-Columbia-University-EI_IE2748.11,30.htm'}, ' AIG ': {'link': 'https://www.glassdoor.com/Overview/Working-at-AIG-EI_IE40.11,14.htm'}, ' New York City Department of Education ': {'link': 'https://www.glassdoor.com/Overview/Working-at-New-York-City-Department-of-Education-EI_IE105247.11,48.htm'}, ' NYU (New York University) ': {'link': 'https://www.glassdoor.com/Overview/Working-at-NYU-New-York-University-EI_IE2917.11,34.htm'}, ' KPMG ': {'link': 'https://www.glassdoor.com/Overview/Working-at-KPMG-EI_IE2867.11,15.htm'}, ' Viacom ': {'link': 'https://www.glassdoor.com/Overview/Working-at-Viacom-EI_IE40260.11,17.htm'}, ' Rutgers University ': {'link': 'https://www.glassdoor.com/Overview/Working-at-Rutgers-University-EI_IE22285.11,29.htm'}, ' Johnson & Johnson ': {'link': 'https://www.glassdoor.com/Overview/Working-at-Johnson-and-Johnson-EI_IE364.11,30.htm'}, ' UBS ': {'link': 'https://www.glassdoor.com/Overview/Working-at-UBS-EI_IE3419.11,14.htm'}, ' Target ': {'link': 'https://www.glassdoor.com/Overview/Working-at-Target-EI_IE194.11,17.htm'}, ' Credit Suisse ': {'link': 'https://www.glassdoor.com/Overview/Working-at-Credit-Suisse-EI_IE3141.11,24.htm'}, ' Thomson Reuters ': {'link': 'https://www.glassdoor.com/Overview/Working-at-Thomson-Reuters-EI_IE100303.11,26.htm'}, ' Starbucks ': {'link': 'https://www.glassdoor.com/Overview/Working-at-Starbucks-EI_IE2202.11,20.htm'}, ' Barclays ': {'link': 'https://www.glassdoor.com/Overview/Working-at-Barclays-EI_IE3456.11,19.htm'}, ' AT&T ': {'link': 'https://www.glassdoor.com/Overview/Working-at-AT-and-T-EI_IE613.11,19.htm'}, ' BNY Mellon ': {'link': 'https://www.glassdoor.com/Overview/Working-at-BNY-Mellon-EI_IE78.11,21.htm'}, ' The Home Depot ': {'link': 'https://www.glassdoor.com/Overview/Working-at-The-Home-Depot-EI_IE655.11,25.htm'}, ' Mount Sinai Health System ': {'link': 'https://www.glassdoor.com/Overview/Working-at-Mount-Sinai-Health-System-EI_IE121517.11,36.htm'}, ' CVS Health ': {'link': 'https://www.glassdoor.com/Overview/Working-at-CVS-Health-EI_IE437.11,21.htm'}, ' Deutsche Bank ': {'link': 'https://www.glassdoor.com/Overview/Working-at-Deutsche-Bank-EI_IE3150.11,24.htm'}, ' Apple ': {'link': 'https://www.glassdoor.com/Overview/Working-at-Apple-EI_IE1138.11,16.htm'}, ' Accenture ': {'link': 'https://www.glassdoor.com/Overview/Working-at-Accenture-EI_IE4138.11,20.htm'}, ' NBCUniversal ': {'link': 'https://www.glassdoor.com/Overview/Working-at-NBCUniversal-EI_IE32038.11,23.htm'}, ' Northwell Health ': {'link': 'https://www.glassdoor.com/Overview/Working-at-Northwell-Health-EI_IE1142964.11,27.htm'}, ' NewYork-Presbyterian Hospital ': {'link': 'https://www.glassdoor.com/Overview/Working-at-NewYork-Presbyterian-Hospital-EI_IE121522.11,40.htm'}, ' Memorial Sloan Kettering ': {'link': 'https://www.glassdoor.com/Overview/Working-at-Memorial-Sloan-Kettering-EI_IE4711.11,35.htm'}, ' UPS ': {'link': 'https://www.glassdoor.com/Overview/Working-at-UPS-EI_IE3012.11,14.htm'}, ' Best Buy ': {'link': 'https://www.glassdoor.com/Overview/Working-at-Best-Buy-EI_IE97.11,19.htm'}, ' Prudential ': {'link': 'https://www.glassdoor.com/Overview/Working-at-Prudential-EI_IE2944.11,21.htm'}, ' NYU Langone Health ': {'link': 'https://www.glassdoor.com/Overview/Working-at-NYU-Langone-Health-EI_IE121521.11,29.htm'}, ' ADP ': {'link': 'https://www.glassdoor.com/Overview/Working-at-ADP-EI_IE64.11,14.htm'}, \" Bloomingdale's \": {'link': 'https://www.glassdoor.com/Overview/Working-at-Bloomingdale-s-EI_IE14465.11,25.htm'}, ' Pfizer ': {'link': 'https://www.glassdoor.com/Overview/Working-at-Pfizer-EI_IE525.11,17.htm'}, ' New York Life ': {'link': 'https://www.glassdoor.com/Overview/Working-at-New-York-Life-EI_IE2915.11,24.htm'}, ' Merck ': {'link': 'https://www.glassdoor.com/Overview/Working-at-Merck-EI_IE438.11,16.htm'}, ' Chase ': {'link': 'https://www.glassdoor.com/Overview/Working-at-Chase-EI_IE690765.11,16.htm'}}\n"
     ]
    }
   ],
   "source": [
    "# Your code here; use a function or loop to retrieve all the results from your original request\n",
    "\n",
    "def g_call(url):\n",
    "    headers = {'User-Agent': 'Mozilla/5.0 (Windows NT 6.1; WOW64) AppleWebKit/537.36 (KHTML, like Gecko) Chrome/56.0.2924.76 Safari/537.36'} # This is chrome, you can set whatever browser you like\n",
    "    response = requests.get(url, headers=headers)\n",
    "    print(url, response.status_code)\n",
    "    \n",
    "    co_list = []\n",
    "    revs_list = []\n",
    "    val_dict = {}\n",
    "    soup = BeautifulSoup(response.content, 'html.parser') #Pass the page contents to beautiful soup for parsing\n",
    "\n",
    "    cos = soup.findAll('a', {'class':'tightAll h2'})\n",
    "    for c in cos:\n",
    "        co_list.append(c.get_text())\n",
    "\n",
    "    reviews = soup.findAll('a', {'class':'sqLogoLink'})\n",
    "    for r in reviews:\n",
    "        revs_list.append('https://www.glassdoor.com'+r.get('href', '\\n'))\n",
    "    \n",
    "    main_dict = {}\n",
    "    for i in range(10):\n",
    "        # print(i, co_list[i], revs_list[i])\n",
    "        main_dict[co_list[i]] = {'link':revs_list[i]}\n",
    "    return main_dict\n",
    "\n",
    "####################\n",
    "last_page = 5\n",
    "cur_page = 1\n",
    "results = {}\n",
    "while cur_page <= last_page:\n",
    "    if cur_page == 1:\n",
    "        url = 'https://www.glassdoor.com/Reviews/new-york-city-reviews-SRCH_IL.0,13_IM615.htm'\n",
    "    else:\n",
    "        url = 'https://www.glassdoor.com/Reviews/new-york-city-reviews-SRCH_IL.0,13_IM615_IP'+str(cur_page)+'.htm'\n",
    "    results.update(g_call(url))\n",
    "    time.sleep(1) #Wait a second\n",
    "    cur_page += 1\n",
    "print(results)"
   ]
  },
  {
   "cell_type": "code",
   "execution_count": 6,
   "metadata": {},
   "outputs": [],
   "source": [
    "headers = {'User-Agent': 'Mozilla/5.0 (Windows NT 6.1; WOW64) AppleWebKit/537.36 (KHTML, like Gecko) Chrome/56.0.2924.76 Safari/537.36'} # This is chrome, you can set whatever browser you like\n",
    "response_jpm = requests.get(\"https://www.glassdoor.com/Overview/Working-at-J-P-Morgan-EI_IE145.11,21.htm\", headers=headers)\n",
    "info_list = []\n",
    "soup = BeautifulSoup(response_jpm.content, 'html.parser') #Pass the page contents to beautiful soup for parsing\n",
    "# soup.prettify # test-print"
   ]
  },
  {
   "cell_type": "code",
   "execution_count": 33,
   "metadata": {},
   "outputs": [
    {
     "data": {
      "text/plain": [
       "['Website', 'Headquarters', 'Size', 'Founded', 'Type', 'Industry', 'Revenue']"
      ]
     },
     "execution_count": 33,
     "metadata": {},
     "output_type": "execute_result"
    }
   ],
   "source": [
    "info = soup.findAll('div', {'class':'info flexbox row col-hh'})\n",
    "labels_list = []\n",
    "for i in info:\n",
    "     labels_t = i.findAll('label')\n",
    "for l in labels_t:\n",
    "    labels_list.append(l.get_text())\n",
    "labels_list"
   ]
  },
  {
   "cell_type": "code",
   "execution_count": 36,
   "metadata": {},
   "outputs": [
    {
     "data": {
      "text/plain": [
       "[<div class=\"info flexbox row col-hh\"><div class=\"infoEntity\"><label>Website</label><span class=\"value website\"><a class=\"link\" href=\"http://www.jpmorgan.com\" rel=\"nofollow noreferrer\" target=\"_blank\">www.jpmorgan.com</a></span></div><div class=\"infoEntity\"><label>Headquarters</label><span class=\"value\">New York, NY</span></div><div class=\"infoEntity\"><label>Size</label><span class=\"value\">10000+ employees</span></div><div class=\"infoEntity\"><label>Founded</label><span class=\"value\"> 1799</span></div><div class=\"infoEntity\"><label>Type</label><span class=\"value\"> Company - Public (JPM) </span></div><div class=\"infoEntity\"><label>Industry</label><span class=\"value\"> Investment Banking &amp; Asset Management</span></div><div class=\"infoEntity\"><label>Revenue</label><span class=\"value\"> $10+ billion (USD) per year</span></div></div>]"
      ]
     },
     "execution_count": 36,
     "metadata": {},
     "output_type": "execute_result"
    }
   ],
   "source": [
    "info"
   ]
  },
  {
   "cell_type": "code",
   "execution_count": 37,
   "metadata": {},
   "outputs": [
    {
     "data": {
      "text/plain": [
       "[]"
      ]
     },
     "execution_count": 37,
     "metadata": {},
     "output_type": "execute_result"
    }
   ],
   "source": [
    "values_list = []\n",
    "for i in info:\n",
    "     labels_v = i.findAll('span', {'class':'value'})\n",
    "labels_v\n",
    "# for l in labels_v:\n",
    "#     values_list.append(l.get_text())\n",
    "values_list"
   ]
  },
  {
   "cell_type": "code",
   "execution_count": null,
   "metadata": {},
   "outputs": [],
   "source": []
  },
  {
   "cell_type": "code",
   "execution_count": 32,
   "metadata": {},
   "outputs": [
    {
     "name": "stdout",
     "output_type": "stream",
     "text": [
      "['www.jpmorgan.com', 'New York, NY', '10000+ employees', ' 1799', ' Company - Public (JPM) ', ' Investment Banking & Asset Management', ' $10+ billion (USD) per year']\n"
     ]
    }
   ],
   "source": [
    "# get one example working\n",
    "headers = {'User-Agent': 'Mozilla/5.0 (Windows NT 6.1; WOW64) AppleWebKit/537.36 (KHTML, like Gecko) Chrome/56.0.2924.76 Safari/537.36'} # This is chrome, you can set whatever browser you like\n",
    "response_jpm = requests.get(\"https://www.glassdoor.com/Overview/Working-at-J-P-Morgan-EI_IE145.11,21.htm\", headers=headers)\n",
    "info_list = []\n",
    "soup = BeautifulSoup(response_jpm.content, 'html.parser') #Pass the page contents to beautiful soup for parsing\n",
    "# soup.prettify # test-print\n",
    "info = soup.findAll('span', {'class':'value'})\n",
    "\n",
    "for i in info:\n",
    "    info_list.append(i.get_text())\n",
    "print(info_list)\n",
    "\n",
    "\n"
   ]
  },
  {
   "cell_type": "code",
   "execution_count": 40,
   "metadata": {
    "scrolled": true
   },
   "outputs": [
    {
     "name": "stdout",
     "output_type": "stream",
     "text": [
      "https://www.glassdoor.com/Overview/Working-at-J-P-Morgan-EI_IE145.11,21.htm\n",
      "https://www.glassdoor.com/Overview/Working-at-IBM-EI_IE354.11,14.htm\n",
      "https://www.glassdoor.com/citi\n",
      "https://www.glassdoor.com/Overview/Working-at-Macy-s-EI_IE1079.11,17.htm\n",
      "https://www.glassdoor.com/Overview/Working-at-Verizon-EI_IE89.11,18.htm\n",
      "https://www.glassdoor.com/Overview/Working-at-Morgan-Stanley-EI_IE2282.11,25.htm\n",
      "https://www.glassdoor.com/Overview/Working-at-Goldman-Sachs-EI_IE2800.11,24.htm\n",
      "https://www.glassdoor.com/Overview/Working-at-PwC-EI_IE8450.11,14.htm\n",
      "https://www.glassdoor.com/Overview/Working-at-EY-EI_IE2784.11,13.htm\n",
      "https://www.glassdoor.com/Overview/Working-at-Deloitte-EI_IE2763.11,19.htm\n",
      "https://www.glassdoor.com/Overview/Working-at-Cognizant-Technology-Solutions-EI_IE8014.11,41.htm\n",
      "https://www.glassdoor.com/Overview/Working-at-Bloomberg-L-P-EI_IE3096.11,24.htm\n",
      "https://www.glassdoor.com/Overview/Working-at-Bank-of-America-EI_IE8874.11,26.htm\n",
      "https://www.glassdoor.com/Overview/Working-at-American-Express-EI_IE35.11,27.htm\n",
      "https://www.glassdoor.com/Overview/Working-at-Columbia-University-EI_IE2748.11,30.htm\n",
      "https://www.glassdoor.com/Overview/Working-at-AIG-EI_IE40.11,14.htm\n",
      "https://www.glassdoor.com/Overview/Working-at-New-York-City-Department-of-Education-EI_IE105247.11,48.htm\n",
      "https://www.glassdoor.com/Overview/Working-at-NYU-New-York-University-EI_IE2917.11,34.htm\n",
      "https://www.glassdoor.com/Overview/Working-at-KPMG-EI_IE2867.11,15.htm\n",
      "https://www.glassdoor.com/Overview/Working-at-Viacom-EI_IE40260.11,17.htm\n",
      "https://www.glassdoor.com/Overview/Working-at-Rutgers-University-EI_IE22285.11,29.htm\n",
      "https://www.glassdoor.com/Overview/Working-at-Johnson-and-Johnson-EI_IE364.11,30.htm\n",
      "https://www.glassdoor.com/Overview/Working-at-UBS-EI_IE3419.11,14.htm\n",
      "https://www.glassdoor.com/Overview/Working-at-Target-EI_IE194.11,17.htm\n",
      "https://www.glassdoor.com/Overview/Working-at-Credit-Suisse-EI_IE3141.11,24.htm\n",
      "https://www.glassdoor.com/Overview/Working-at-Thomson-Reuters-EI_IE100303.11,26.htm\n",
      "https://www.glassdoor.com/Overview/Working-at-Starbucks-EI_IE2202.11,20.htm\n",
      "https://www.glassdoor.com/Overview/Working-at-Barclays-EI_IE3456.11,19.htm\n",
      "https://www.glassdoor.com/Overview/Working-at-AT-and-T-EI_IE613.11,19.htm\n",
      "https://www.glassdoor.com/Overview/Working-at-BNY-Mellon-EI_IE78.11,21.htm\n",
      "https://www.glassdoor.com/Overview/Working-at-The-Home-Depot-EI_IE655.11,25.htm\n",
      "https://www.glassdoor.com/Overview/Working-at-Mount-Sinai-Health-System-EI_IE121517.11,36.htm\n",
      "https://www.glassdoor.com/Overview/Working-at-CVS-Health-EI_IE437.11,21.htm\n",
      "https://www.glassdoor.com/Overview/Working-at-Deutsche-Bank-EI_IE3150.11,24.htm\n",
      "https://www.glassdoor.com/Overview/Working-at-Apple-EI_IE1138.11,16.htm\n",
      "https://www.glassdoor.com/Overview/Working-at-Accenture-EI_IE4138.11,20.htm\n",
      "https://www.glassdoor.com/Overview/Working-at-NBCUniversal-EI_IE32038.11,23.htm\n",
      "https://www.glassdoor.com/Overview/Working-at-Northwell-Health-EI_IE1142964.11,27.htm\n",
      "https://www.glassdoor.com/Overview/Working-at-NewYork-Presbyterian-Hospital-EI_IE121522.11,40.htm\n",
      "https://www.glassdoor.com/Overview/Working-at-Memorial-Sloan-Kettering-EI_IE4711.11,35.htm\n",
      "https://www.glassdoor.com/Overview/Working-at-UPS-EI_IE3012.11,14.htm\n",
      "https://www.glassdoor.com/Overview/Working-at-Best-Buy-EI_IE97.11,19.htm\n",
      "https://www.glassdoor.com/Overview/Working-at-Prudential-EI_IE2944.11,21.htm\n",
      "https://www.glassdoor.com/Overview/Working-at-NYU-Langone-Health-EI_IE121521.11,29.htm\n",
      "https://www.glassdoor.com/Overview/Working-at-ADP-EI_IE64.11,14.htm\n",
      "https://www.glassdoor.com/Overview/Working-at-Bloomingdale-s-EI_IE14465.11,25.htm\n",
      "https://www.glassdoor.com/Overview/Working-at-Pfizer-EI_IE525.11,17.htm\n",
      "https://www.glassdoor.com/Overview/Working-at-New-York-Life-EI_IE2915.11,24.htm\n",
      "https://www.glassdoor.com/Overview/Working-at-Merck-EI_IE438.11,16.htm\n",
      "https://www.glassdoor.com/Overview/Working-at-Chase-EI_IE690765.11,16.htm\n"
     ]
    }
   ],
   "source": [
    "for k in results:\n",
    "    print(results[k]['link'])"
   ]
  },
  {
   "cell_type": "code",
   "execution_count": null,
   "metadata": {},
   "outputs": [],
   "source": [
    "def get_co_info(results)\n",
    "    headers = {'User-Agent': 'Mozilla/5.0 (Windows NT 6.1; WOW64) AppleWebKit/537.36 (KHTML, like Gecko) Chrome/56.0.2924.76 Safari/537.36'} # This is chrome, you can set whatever browser you like\n",
    "#     response_jpm = requests.get(\"https://www.glassdoor.com/Overview/Working-at-J-P-Morgan-EI_IE145.11,21.htm\", headers=headers)\n",
    "    response = requests.get(url)\n",
    "    info_list = []\n",
    "    soup = BeautifulSoup(response_jpm.content, 'html.parser') #Pass the page contents to beautiful soup for parsing\n",
    "    # soup.prettify # test-print\n",
    "    info = soup.findAll('span', {'class':'value'})\n",
    "\n",
    "    for i in info:\n",
    "        info_list.append(i.get_text())\n",
    "    return info_list\n",
    "\n",
    "for k, v in results:\n",
    "    \n",
    "    \n",
    "    "
   ]
  },
  {
   "cell_type": "code",
   "execution_count": null,
   "metadata": {},
   "outputs": [],
   "source": []
  },
  {
   "cell_type": "code",
   "execution_count": null,
   "metadata": {},
   "outputs": [],
   "source": []
  },
  {
   "cell_type": "code",
   "execution_count": null,
   "metadata": {},
   "outputs": [],
   "source": [
    "# Your code here; use a function or loop to retrieve all the results from your original request\n",
    "\n",
    "def co_call(url):\n",
    "    headers = {'User-Agent': 'Mozilla/5.0 (Windows NT 6.1; WOW64) AppleWebKit/537.36 (KHTML, like Gecko) Chrome/56.0.2924.76 Safari/537.36'} # This is chrome, you can set whatever browser you like\n",
    "    response = requests.get(url, headers=headers)\n",
    "    print(url, response.status_code)\n",
    "    \n",
    "    co_list = []\n",
    "    revs_list = []\n",
    "    soup = BeautifulSoup(response.content, 'html.parser') #Pass the page contents to beautiful soup for parsing\n",
    "\n",
    "    cos = soup.findAll('a', {'class':'tightAll h2'})\n",
    "    for c in cos:\n",
    "        co_list.append(c.get_text())\n",
    "\n",
    "    reviews = soup.findAll('a', {'class':'sqLogoLink'})\n",
    "    for r in reviews:\n",
    "        revs_list.append('https://www.glassdoor.com'+r.get('href', '\\n'))\n",
    "    \n",
    "    main_dict = {}\n",
    "    for i in range(10):\n",
    "        # print(i, co_list[i], revs_list[i])\n",
    "        main_dict[co_list[i]] = revs_list[i]\n",
    "    return main_dict\n",
    "\n",
    "####################\n",
    "last_page = 5\n",
    "cur_page = 1\n",
    "results = {}\n",
    "while cur_page <= last_page:\n",
    "    if cur_page == 1:\n",
    "        url = 'https://www.glassdoor.com/Reviews/new-york-city-reviews-SRCH_IL.0,13_IM615.htm'\n",
    "    else:\n",
    "        url = 'https://www.glassdoor.com/Reviews/new-york-city-reviews-SRCH_IL.0,13_IM615_IP'+str(cur_page)+'.htm'\n",
    "    results.update(g_call(url))\n",
    "    time.sleep(1) #Wait a second\n",
    "    cur_page += 1\n",
    "print(results)"
   ]
  },
  {
   "cell_type": "code",
   "execution_count": null,
   "metadata": {},
   "outputs": [],
   "source": [
    "https://www.glassdoor.com/Reviews/new-york-city-reviews-SRCH_IL.0,13_IM615.htm\n",
    "https://www.glassdoor.com/Reviews/new-york-city-reviews-SRCH_IL.0,13_IM615_IP2.htm\n",
    "https://www.glassdoor.com/Reviews/new-york-city-reviews-SRCH_IL.0,13_IM615_IP3.htm\n",
    "<a href=\"/Overview/Working-at-J-P-Morgan-EI_IE145.11,21.htm\" data-ajax=\"true\" class=\"sqLogoLink\"><span class=\"sqLogo tighten lgSqLogo logoOverlay\"><img src=\"https://media.glassdoor.com/sql/145/j-p-morgan-squarelogo-1479932535271.png\" class=\"\" alt=\"J.P. Morgan Logo\" title=\"\"></span></a>\n",
    "<div class=\"info flexbox row col-hh\"><div class=\"infoEntity\"><label>Website</label><span class=\"value website\"><a class=\"link\" href=\"http://www.jpmorgan.com\" target=\"_blank\" rel=\"nofollow noreferrer\">www.jpmorgan.com</a></span></div><div class=\"infoEntity\"><label>Headquarters</label><span class=\"value\">New York, NY</span></div><div class=\"infoEntity\"><label>Size</label><span class=\"value\">10000+ employees</span></div><div class=\"infoEntity\"><label>Founded</label><span class=\"value\"> 1799</span></div><div class=\"infoEntity\"><label>Type</label><span class=\"value\"> Company - Public (JPM) </span></div><div class=\"infoEntity\"><label>Industry</label><span class=\"value\"> Investment Banking &amp; Asset Management</span></div><div class=\"infoEntity\"><label>Revenue</label><span class=\"value\"> $10+ billion (USD) per year</span></div></div>\n"
   ]
  },
  {
   "cell_type": "code",
   "execution_count": 3,
   "metadata": {},
   "outputs": [
    {
     "ename": "NameError",
     "evalue": "name 'website' is not defined",
     "output_type": "error",
     "traceback": [
      "\u001b[0;31m---------------------------------------------------------------------------\u001b[0m",
      "\u001b[0;31mNameError\u001b[0m                                 Traceback (most recent call last)",
      "\u001b[0;32m<ipython-input-3-d6c4900a3182>\u001b[0m in \u001b[0;36m<module>\u001b[0;34m\u001b[0m\n\u001b[1;32m      2\u001b[0m \u001b[0;31m#' Company - Public (JPM) ', ' Investment Banking & Asset Management', ' $10+ billion (USD) per year']\u001b[0m\u001b[0;34m\u001b[0m\u001b[0;34m\u001b[0m\u001b[0;34m\u001b[0m\u001b[0m\n\u001b[1;32m      3\u001b[0m \u001b[0;34m\u001b[0m\u001b[0m\n\u001b[0;32m----> 4\u001b[0;31m \u001b[0mwebsite\u001b[0m\u001b[0;34m\u001b[0m\u001b[0;34m\u001b[0m\u001b[0m\n\u001b[0m",
      "\u001b[0;31mNameError\u001b[0m: name 'website' is not defined"
     ]
    }
   ],
   "source": [
    "# ['www.jpmorgan.com', 'New York, NY', '10000+ employees', ' 1799', \n",
    "#' Company - Public (JPM) ', ' Investment Banking & Asset Management', ' $10+ billion (USD) per year']\n",
    "\n",
    "# website \n",
    "Website\twww.chase.com\n",
    "Headquarters\tNew York, NY\n",
    "Size\t10000+ employees\n",
    "Part of\tJ.P. Morgan\n",
    "Founded\t1799\n",
    "Type\tSubsidiary or Business Segment\n",
    "Industry\tBanks & Credit Unions\n",
    "Revenue\t$10+ billion (USD) per year\n",
    "\n",
    "Website\twww.merck.com\n",
    "Headquarters\tKenilworth, NJ\n",
    "Size\t10000+ employees\n",
    "Founded\t1891\n",
    "Type\tCompany - Public (MRK)\n",
    "Industry\tHealth Care Services & Hospitals\n",
    "Revenue\t$10+ billion (USD) per year\n",
    "Competitors"
   ]
  },
  {
   "cell_type": "code",
   "execution_count": null,
   "metadata": {},
   "outputs": [],
   "source": [
    "# GET and prettify via Beautiful Soup\n",
    "headers = {'User-Agent': 'Mozilla/5.0 (Windows NT 6.1; WOW64) AppleWebKit/537.36 (KHTML, like Gecko) Chrome/56.0.2924.76 Safari/537.36'} # This is chrome, you can set whatever browser you like\n",
    "response = requests.get(\"https://www.glassdoor.com/Reviews/new-york-city-reviews-SRCH_IL.0,13_IM615.htm\", headers=headers)\n",
    "print(response.status_code)"
   ]
  },
  {
   "cell_type": "code",
   "execution_count": null,
   "metadata": {},
   "outputs": [],
   "source": []
  }
 ],
 "metadata": {
  "kernelspec": {
   "display_name": "Python 3",
   "language": "python",
   "name": "python3"
  },
  "language_info": {
   "codemirror_mode": {
    "name": "ipython",
    "version": 3
   },
   "file_extension": ".py",
   "mimetype": "text/x-python",
   "name": "python",
   "nbconvert_exporter": "python",
   "pygments_lexer": "ipython3",
   "version": "3.7.3"
  },
  "toc": {
   "base_numbering": 1,
   "nav_menu": {},
   "number_sections": true,
   "sideBar": true,
   "skip_h1_title": false,
   "title_cell": "Table of Contents",
   "title_sidebar": "Contents",
   "toc_cell": false,
   "toc_position": {},
   "toc_section_display": true,
   "toc_window_display": false
  }
 },
 "nbformat": 4,
 "nbformat_minor": 2
}
